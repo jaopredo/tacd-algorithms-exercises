{
 "cells": [
  {
   "cell_type": "code",
   "execution_count": 1,
   "id": "eb719c90",
   "metadata": {},
   "outputs": [
    {
     "data": {
      "text/plain": [
       "250306"
      ]
     },
     "execution_count": 1,
     "metadata": {},
     "output_type": "execute_result"
    }
   ],
   "source": [
    "250306"
   ]
  },
  {
   "cell_type": "markdown",
   "id": "ff872904-f029-497b-8b41-c5f801ce6fbc",
   "metadata": {},
   "source": [
    "# Lab 10 -- Decision Trees for Regression\n",
    "\n",
    "Compared to last week, this is a very simple lab <span style=\"font-size:20pt;\">😃</span> You'll have fun programming!\n",
    "\n",
    "You will implement the **Classification and Regression Tree (CART)** algorithm from scratch.\n",
    "\n",
    "The lab is broken down into the following pieces:\n",
    "\n",
    "* Regression Criterion\n",
    "* Creating Splits\n",
    "* Buiding a Tree\n",
    "* Making a prediction\n",
    "\n",
    "## Exercise 1 -- Download and load the dataset\n",
    "\n",
    "We will be using the usual Boston Housing dataset, which is available to download from ECLASS\n",
    "\n",
    "* Download the file\n",
    "* Read it and separate the target variable from the features.\n",
    "* Make a 80/10/10 train/validation/test split"
   ]
  },
  {
   "cell_type": "code",
   "execution_count": 2,
   "id": "2285bb42-350c-4042-9f9c-e1a936ca7ab6",
   "metadata": {
    "tags": []
   },
   "outputs": [],
   "source": [
    "import pandas as pd\n",
    "import numpy as np\n",
    "from sklearn.model_selection import train_test_split\n",
    "import matplotlib.pyplot as plt"
   ]
  },
  {
   "cell_type": "code",
   "execution_count": 3,
   "id": "5a1f1e4a-feb8-4c43-bcf9-e7d86be427fb",
   "metadata": {
    "tags": []
   },
   "outputs": [
    {
     "data": {
      "text/html": [
       "<div>\n",
       "<style scoped>\n",
       "    .dataframe tbody tr th:only-of-type {\n",
       "        vertical-align: middle;\n",
       "    }\n",
       "\n",
       "    .dataframe tbody tr th {\n",
       "        vertical-align: top;\n",
       "    }\n",
       "\n",
       "    .dataframe thead th {\n",
       "        text-align: right;\n",
       "    }\n",
       "</style>\n",
       "<table border=\"1\" class=\"dataframe\">\n",
       "  <thead>\n",
       "    <tr style=\"text-align: right;\">\n",
       "      <th></th>\n",
       "      <th>CRIM</th>\n",
       "      <th>ZN</th>\n",
       "      <th>INDUS</th>\n",
       "      <th>CHAS</th>\n",
       "      <th>NOX</th>\n",
       "      <th>RM</th>\n",
       "      <th>AGE</th>\n",
       "      <th>DIS</th>\n",
       "      <th>RAD</th>\n",
       "      <th>TAX</th>\n",
       "      <th>PTRATIO</th>\n",
       "      <th>B</th>\n",
       "      <th>LSTAT</th>\n",
       "      <th>MEDV</th>\n",
       "    </tr>\n",
       "  </thead>\n",
       "  <tbody>\n",
       "    <tr>\n",
       "      <th>0</th>\n",
       "      <td>0.02731</td>\n",
       "      <td>0.0</td>\n",
       "      <td>7.07</td>\n",
       "      <td>0</td>\n",
       "      <td>0.469</td>\n",
       "      <td>6.421</td>\n",
       "      <td>78.9</td>\n",
       "      <td>4.9671</td>\n",
       "      <td>2</td>\n",
       "      <td>242.0</td>\n",
       "      <td>17.8</td>\n",
       "      <td>396.90</td>\n",
       "      <td>9.14</td>\n",
       "      <td>21.6</td>\n",
       "    </tr>\n",
       "    <tr>\n",
       "      <th>1</th>\n",
       "      <td>0.02729</td>\n",
       "      <td>0.0</td>\n",
       "      <td>7.07</td>\n",
       "      <td>0</td>\n",
       "      <td>0.469</td>\n",
       "      <td>7.185</td>\n",
       "      <td>61.1</td>\n",
       "      <td>4.9671</td>\n",
       "      <td>2</td>\n",
       "      <td>242.0</td>\n",
       "      <td>17.8</td>\n",
       "      <td>392.83</td>\n",
       "      <td>4.03</td>\n",
       "      <td>34.7</td>\n",
       "    </tr>\n",
       "    <tr>\n",
       "      <th>2</th>\n",
       "      <td>0.03237</td>\n",
       "      <td>0.0</td>\n",
       "      <td>2.18</td>\n",
       "      <td>0</td>\n",
       "      <td>0.458</td>\n",
       "      <td>6.998</td>\n",
       "      <td>45.8</td>\n",
       "      <td>6.0622</td>\n",
       "      <td>3</td>\n",
       "      <td>222.0</td>\n",
       "      <td>18.7</td>\n",
       "      <td>394.63</td>\n",
       "      <td>2.94</td>\n",
       "      <td>33.4</td>\n",
       "    </tr>\n",
       "    <tr>\n",
       "      <th>3</th>\n",
       "      <td>0.06905</td>\n",
       "      <td>0.0</td>\n",
       "      <td>2.18</td>\n",
       "      <td>0</td>\n",
       "      <td>0.458</td>\n",
       "      <td>7.147</td>\n",
       "      <td>54.2</td>\n",
       "      <td>6.0622</td>\n",
       "      <td>3</td>\n",
       "      <td>222.0</td>\n",
       "      <td>18.7</td>\n",
       "      <td>396.90</td>\n",
       "      <td>5.33</td>\n",
       "      <td>36.2</td>\n",
       "    </tr>\n",
       "    <tr>\n",
       "      <th>4</th>\n",
       "      <td>0.02985</td>\n",
       "      <td>0.0</td>\n",
       "      <td>2.18</td>\n",
       "      <td>0</td>\n",
       "      <td>0.458</td>\n",
       "      <td>6.430</td>\n",
       "      <td>58.7</td>\n",
       "      <td>6.0622</td>\n",
       "      <td>3</td>\n",
       "      <td>222.0</td>\n",
       "      <td>18.7</td>\n",
       "      <td>394.12</td>\n",
       "      <td>5.21</td>\n",
       "      <td>28.7</td>\n",
       "    </tr>\n",
       "    <tr>\n",
       "      <th>...</th>\n",
       "      <td>...</td>\n",
       "      <td>...</td>\n",
       "      <td>...</td>\n",
       "      <td>...</td>\n",
       "      <td>...</td>\n",
       "      <td>...</td>\n",
       "      <td>...</td>\n",
       "      <td>...</td>\n",
       "      <td>...</td>\n",
       "      <td>...</td>\n",
       "      <td>...</td>\n",
       "      <td>...</td>\n",
       "      <td>...</td>\n",
       "      <td>...</td>\n",
       "    </tr>\n",
       "    <tr>\n",
       "      <th>500</th>\n",
       "      <td>0.06263</td>\n",
       "      <td>0.0</td>\n",
       "      <td>11.93</td>\n",
       "      <td>0</td>\n",
       "      <td>0.573</td>\n",
       "      <td>6.593</td>\n",
       "      <td>69.1</td>\n",
       "      <td>2.4786</td>\n",
       "      <td>1</td>\n",
       "      <td>273.0</td>\n",
       "      <td>21.0</td>\n",
       "      <td>391.99</td>\n",
       "      <td>9.67</td>\n",
       "      <td>22.4</td>\n",
       "    </tr>\n",
       "    <tr>\n",
       "      <th>501</th>\n",
       "      <td>0.04527</td>\n",
       "      <td>0.0</td>\n",
       "      <td>11.93</td>\n",
       "      <td>0</td>\n",
       "      <td>0.573</td>\n",
       "      <td>6.120</td>\n",
       "      <td>76.7</td>\n",
       "      <td>2.2875</td>\n",
       "      <td>1</td>\n",
       "      <td>273.0</td>\n",
       "      <td>21.0</td>\n",
       "      <td>396.90</td>\n",
       "      <td>9.08</td>\n",
       "      <td>20.6</td>\n",
       "    </tr>\n",
       "    <tr>\n",
       "      <th>502</th>\n",
       "      <td>0.06076</td>\n",
       "      <td>0.0</td>\n",
       "      <td>11.93</td>\n",
       "      <td>0</td>\n",
       "      <td>0.573</td>\n",
       "      <td>6.976</td>\n",
       "      <td>91.0</td>\n",
       "      <td>2.1675</td>\n",
       "      <td>1</td>\n",
       "      <td>273.0</td>\n",
       "      <td>21.0</td>\n",
       "      <td>396.90</td>\n",
       "      <td>5.64</td>\n",
       "      <td>23.9</td>\n",
       "    </tr>\n",
       "    <tr>\n",
       "      <th>503</th>\n",
       "      <td>0.10959</td>\n",
       "      <td>0.0</td>\n",
       "      <td>11.93</td>\n",
       "      <td>0</td>\n",
       "      <td>0.573</td>\n",
       "      <td>6.794</td>\n",
       "      <td>89.3</td>\n",
       "      <td>2.3889</td>\n",
       "      <td>1</td>\n",
       "      <td>273.0</td>\n",
       "      <td>21.0</td>\n",
       "      <td>393.45</td>\n",
       "      <td>6.48</td>\n",
       "      <td>22.0</td>\n",
       "    </tr>\n",
       "    <tr>\n",
       "      <th>504</th>\n",
       "      <td>0.04741</td>\n",
       "      <td>0.0</td>\n",
       "      <td>11.93</td>\n",
       "      <td>0</td>\n",
       "      <td>0.573</td>\n",
       "      <td>6.030</td>\n",
       "      <td>80.8</td>\n",
       "      <td>2.5050</td>\n",
       "      <td>1</td>\n",
       "      <td>273.0</td>\n",
       "      <td>21.0</td>\n",
       "      <td>396.90</td>\n",
       "      <td>7.88</td>\n",
       "      <td>11.9</td>\n",
       "    </tr>\n",
       "  </tbody>\n",
       "</table>\n",
       "<p>505 rows × 14 columns</p>\n",
       "</div>"
      ],
      "text/plain": [
       "        CRIM   ZN  INDUS  CHAS    NOX     RM   AGE     DIS  RAD    TAX  \\\n",
       "0    0.02731  0.0   7.07     0  0.469  6.421  78.9  4.9671    2  242.0   \n",
       "1    0.02729  0.0   7.07     0  0.469  7.185  61.1  4.9671    2  242.0   \n",
       "2    0.03237  0.0   2.18     0  0.458  6.998  45.8  6.0622    3  222.0   \n",
       "3    0.06905  0.0   2.18     0  0.458  7.147  54.2  6.0622    3  222.0   \n",
       "4    0.02985  0.0   2.18     0  0.458  6.430  58.7  6.0622    3  222.0   \n",
       "..       ...  ...    ...   ...    ...    ...   ...     ...  ...    ...   \n",
       "500  0.06263  0.0  11.93     0  0.573  6.593  69.1  2.4786    1  273.0   \n",
       "501  0.04527  0.0  11.93     0  0.573  6.120  76.7  2.2875    1  273.0   \n",
       "502  0.06076  0.0  11.93     0  0.573  6.976  91.0  2.1675    1  273.0   \n",
       "503  0.10959  0.0  11.93     0  0.573  6.794  89.3  2.3889    1  273.0   \n",
       "504  0.04741  0.0  11.93     0  0.573  6.030  80.8  2.5050    1  273.0   \n",
       "\n",
       "     PTRATIO       B  LSTAT  MEDV  \n",
       "0       17.8  396.90   9.14  21.6  \n",
       "1       17.8  392.83   4.03  34.7  \n",
       "2       18.7  394.63   2.94  33.4  \n",
       "3       18.7  396.90   5.33  36.2  \n",
       "4       18.7  394.12   5.21  28.7  \n",
       "..       ...     ...    ...   ...  \n",
       "500     21.0  391.99   9.67  22.4  \n",
       "501     21.0  396.90   9.08  20.6  \n",
       "502     21.0  396.90   5.64  23.9  \n",
       "503     21.0  393.45   6.48  22.0  \n",
       "504     21.0  396.90   7.88  11.9  \n",
       "\n",
       "[505 rows x 14 columns]"
      ]
     },
     "execution_count": 3,
     "metadata": {},
     "output_type": "execute_result"
    }
   ],
   "source": [
    "columns = [\"CRIM\",\"ZN\",\"INDUS\",\"CHAS\",\"NOX\",\"RM\",\"AGE\",\"DIS\",\"RAD\",\"TAX\",\"PTRATIO\",\"B\",\"LSTAT\",\"MEDV\"]\n",
    "boston = pd.read_csv('./housing.txt', sep=r'\\s+')\n",
    "boston.columns = columns\n",
    "boston"
   ]
  },
  {
   "cell_type": "markdown",
   "id": "fc6c7cae-f7f1-4b42-9326-aefec0898cf9",
   "metadata": {},
   "source": [
    "The target variable will be as usual `MEDV`. Use the rest as features."
   ]
  },
  {
   "cell_type": "code",
   "execution_count": 4,
   "id": "5351f2fe-31f7-4c94-97e3-a51f17fcb800",
   "metadata": {},
   "outputs": [],
   "source": [
    "t = boston['MEDV']\n",
    "X = boston.drop('MEDV', axis=1)\n",
    "\n",
    "X.columns = [x for x in range(len(X.columns))]\n",
    "\n",
    "X_train, X_split, t_train, t_split = train_test_split(X, t, train_size=.8, random_state=0)\n",
    "X_validation, X_test, t_validation, t_test = train_test_split(X_split, t_split, train_size=.5, random_state=0)\n",
    "\n",
    "t_validation = t_validation.to_numpy().reshape(-1, 1)\n",
    "t_test = t_test.to_numpy().reshape(-1, 1)"
   ]
  },
  {
   "cell_type": "markdown",
   "id": "90b74cb6-7ffb-4373-8df6-afca9358f635",
   "metadata": {},
   "source": [
    "## Exercise 2 -- Optimization Criterion\n",
    "\n",
    "For regression, a simple criterion to optimize is to minimize the sum of squared errors for a given region. This is, for all datapoints in a region with size, we minimize:\n",
    "\n",
    "$$\\sum_{i=1}^N(y_i - \\hat{y})^2$$\n",
    "\n",
    "where $N$ is the number of datapoits in the region and $\\hat{y}$ is the mean value of the region for the target variable. \n",
    "\n",
    "Implement such a function using the description below.\n",
    "\n",
    "Please, don't use an existing implementation, refer to the [book](https://www.statlearning.com/s/ISLRSeventhPrinting.pdf), and if you need help, ask questions!"
   ]
  },
  {
   "cell_type": "code",
   "execution_count": 5,
   "id": "ef07acad-8c45-4750-a12d-81ef01966d85",
   "metadata": {
    "tags": []
   },
   "outputs": [],
   "source": [
    "def regression_criterion(region: pd.Series) -> float:\n",
    "    \"\"\"\n",
    "    Implements the sum of squared error criterion in a region\n",
    "    \n",
    "    Parameters\n",
    "    ----------\n",
    "    region : pd.Series\n",
    "        Array of shape (N,) containing the values of the target values \n",
    "        for N datapoints in the training set.\n",
    "    \n",
    "    Returns\n",
    "    -------\n",
    "    float\n",
    "        The sum of squared error\n",
    "        \n",
    "    Note\n",
    "    ----\n",
    "    The error for an empty region should be infinity (use: float(\"inf\"))\n",
    "    This avoids creating empty regions\n",
    "    \"\"\"\n",
    "    if len(region) == 0:\n",
    "        return float(\"inf\")\n",
    "    if isinstance(region, pd.Series):\n",
    "        region = region.to_numpy()\n",
    "    \n",
    "    y_hat = region.mean()\n",
    "\n",
    "    region -= y_hat\n",
    "    \n",
    "    return region.T @ region"
   ]
  },
  {
   "cell_type": "code",
   "execution_count": 6,
   "id": "bc1ee99f-ce80-4c79-ad29-04d5c7295487",
   "metadata": {},
   "outputs": [
    {
     "name": "stdout",
     "output_type": "stream",
     "text": [
      "3.620067983862954\n",
      "0.0\n",
      "0.0\n",
      "inf\n"
     ]
    }
   ],
   "source": [
    "# test your code\n",
    "rng = np.random.default_rng(0)\n",
    "print(regression_criterion(rng.random(size=40)))\n",
    "print(regression_criterion(np.ones(10)))\n",
    "print(regression_criterion(np.zeros(10)))\n",
    "print(regression_criterion(np.array([])))"
   ]
  },
  {
   "cell_type": "markdown",
   "id": "594ee5c1-a1b9-4507-bd7b-2e94936ee1e6",
   "metadata": {},
   "source": [
    "## Exercise 3 -- Make a split"
   ]
  },
  {
   "cell_type": "code",
   "execution_count": 7,
   "id": "3cb0cfd2-e271-4355-8953-7cd438e75340",
   "metadata": {},
   "outputs": [],
   "source": [
    "def split_region(region: pd.Series | pd.DataFrame, feature_index: int, tau: float):\n",
    "    \"\"\"\n",
    "    Given a region, splits it based on the feature indicated by\n",
    "    `feature_index`, the region will be split in two, where\n",
    "    one side will contain all points with the feature with values \n",
    "    lower than `tau`, and the other split will contain the \n",
    "    remaining datapoints.\n",
    "    \n",
    "    Parameters\n",
    "    ----------\n",
    "    region : pd.Series | pd.DataFrame\n",
    "        a partition of the dataset (or the full dataset) to be split\n",
    "    feature_index : int\n",
    "        the index of the feature (column of the region array) used to make this partition\n",
    "    tau : float\n",
    "        The threshold used to make this partition\n",
    "        \n",
    "    Return\n",
    "    ------\n",
    "    left_partition : pd.Series | pd.DataFrame\n",
    "        indices of the datapoints in `region` where feature < `tau`\n",
    "    right_partition : pd.Series | pd.DataFrame\n",
    "        indices of the datapoints in `region` where feature >= `tau` \n",
    "    \"\"\"\n",
    "    left_partition = region[region[feature_index] < tau][feature_index].index\n",
    "    right_partition = region[region[feature_index] >= tau][feature_index].index\n",
    "\n",
    "    return left_partition, right_partition"
   ]
  },
  {
   "cell_type": "code",
   "execution_count": 8,
   "id": "58a5d16d-eba9-4b14-9745-156ccbbd91aa",
   "metadata": {
    "tags": []
   },
   "outputs": [
    {
     "name": "stdout",
     "output_type": "stream",
     "text": [
      "(214,) (190,)\n"
     ]
    }
   ],
   "source": [
    "l, r = split_region(X_train, 2, 10)\n",
    "print(l.shape, r.shape)"
   ]
  },
  {
   "cell_type": "markdown",
   "id": "52b9359a-b601-4522-8731-6393500bda73",
   "metadata": {},
   "source": [
    "## Exercise 4 -- Find the best split\n",
    "\n",
    "The strategy is quite simple (as well as inefficient), but it helps to reinforce the concepts.\n",
    "We are going to use a greedy, exhaustive algorithm to select splits, selecting the `feature_index` and the `tau` that minimizes the Regression Criterion"
   ]
  },
  {
   "cell_type": "code",
   "execution_count": 9,
   "id": "079c4a77-27ba-44b8-9ad4-b98c80c9cb8b",
   "metadata": {},
   "outputs": [],
   "source": [
    "def get_split(X: pd.DataFrame, y: pd.Series):\n",
    "    \"\"\"\n",
    "    Given a dataset (full or partial), splits it on the feature of that minimizes the sum of squared error\n",
    "    \n",
    "    Parameters\n",
    "    ----------\n",
    "    X : pd.DataFrame\n",
    "        features \n",
    "    y : pd.Series\n",
    "        labels\n",
    "    \n",
    "    Returns\n",
    "    -------\n",
    "    decision : dictionary\n",
    "        keys are:\n",
    "        * 'feature_index' -> an integer that indicates the feature (column) of `X` on which the data is split\n",
    "        * 'tau' -> the threshold used to make the split\n",
    "        * 'left_region' -> array of indices where the `feature_index`th feature of X is lower than `tau`\n",
    "        * 'right_region' -> indices not in `low_region`\n",
    "    \"\"\"\n",
    "    best_tau_separations = []\n",
    "    # List containing the best sse and tau registered for each feature, follows this structure\n",
    "\n",
    "    for feature in X.columns:  # Going through every feature\n",
    "        feature_sses = []\n",
    "        # List containing all registered SSE for this features (It follows this structure:)\n",
    "        # [ (tau_1, sse_1), (tau_2, sse_2), ..., (tau_j, sse_j) ]\n",
    "        # Where 'tau_i' is the ith element of the feature's column and 'sse_i' is its registered SSE\n",
    "        unique_features = pd.unique(X[feature])\n",
    "\n",
    "        for tau in unique_features:  # Using each value of the feature as tau (For performance reasons)\n",
    "            l_feature, r_feature = split_region(X, feature, tau)\n",
    "            sse_left = regression_criterion(y[l_feature])\n",
    "            sse_right = regression_criterion(y[r_feature])\n",
    "            feature_sses.append((tau, sse_left + sse_right))\n",
    "\n",
    "        minimum_tau_sse = min(feature_sses, key=lambda f_s: f_s[1])\n",
    "        # Getting the minimum SSE on feature_sses\n",
    "        best_tau_separations.append((feature, *minimum_tau_sse))\n",
    "    \n",
    "    best_separation_criterion = min(best_tau_separations, key=lambda s_c: s_c[2])\n",
    "\n",
    "    l, r = split_region(X, best_separation_criterion[0], best_separation_criterion[1])\n",
    "\n",
    "    return {\n",
    "        'feature_index': best_separation_criterion[0],\n",
    "        'tau': best_separation_criterion[1],\n",
    "        'left_region': l,\n",
    "        'right_region': r,\n",
    "        'total_sse': best_separation_criterion[2]\n",
    "    }\n"
   ]
  },
  {
   "cell_type": "code",
   "execution_count": 10,
   "id": "alpine-oakland",
   "metadata": {
    "tags": []
   },
   "outputs": [
    {
     "data": {
      "text/plain": [
       "{'feature_index': 5,\n",
       " 'tau': np.float64(8.398),\n",
       " 'left_region': Index([71, 479, 6, 416, 113, 241, 301, 155, 299, 7, 137, 8, 206, 437], dtype='int64'),\n",
       " 'right_region': Index([261], dtype='int64'),\n",
       " 'total_sse': np.float64(466.8121428571428)}"
      ]
     },
     "execution_count": 10,
     "metadata": {},
     "output_type": "execute_result"
    }
   ],
   "source": [
    "get_split(X_train.iloc[:15, :], t_train.iloc[:15])"
   ]
  },
  {
   "cell_type": "code",
   "execution_count": 11,
   "id": "ef04d32a-998a-46b5-abda-c75f6f032de4",
   "metadata": {
    "tags": []
   },
   "outputs": [],
   "source": [
    "k = 20\n",
    "test_root = get_split(X_train.iloc[:k, :], t_train.iloc[:k])\n",
    "# recursive_growth(test_root, 5, 3, 1, X_train[:k, :], y_train[:k])"
   ]
  },
  {
   "cell_type": "markdown",
   "id": "3d096e1f-fddf-4018-8ea9-252cb21de8c7",
   "metadata": {},
   "source": [
    "## Exercise 5 -- Recursive Splitting\n",
    "\n",
    "The test above is an example on how to find the root node of our decision tree. The algorithm now is a greedy search until we reach a stop criterion. To find the actual root node of our decision tree, you must provide the whole training set, not just a slice of 15 rows as the test above.\n",
    "\n",
    "The trivial stopping criterion is to recursively grow the tree until each split contains a single point (perfect node purity). If we go that far, it normally means we are overfitting.\n",
    "\n",
    "You will implement these criteria to stop the growth:\n",
    "\n",
    "* A node is a leaf if:\n",
    "    * It has less than `min_samples` datapoints\n",
    "    * It is at the `max_depth` level from the root (each split creates a new level)\n",
    "    * The criterion is `0`\n",
    "\n"
   ]
  },
  {
   "cell_type": "code",
   "execution_count": 12,
   "id": "89e826c6-cb8b-488c-9eb4-d4b6f2d4e9ee",
   "metadata": {},
   "outputs": [],
   "source": [
    "def recursive_growth(\n",
    "    node: dict,\n",
    "    min_samples: int,\n",
    "    max_depth: int,\n",
    "    current_depth: int,\n",
    "    X: pd.DataFrame,\n",
    "    y: pd.Series\n",
    "):\n",
    "    \"\"\"\n",
    "    Recursively grows a decision tree.\n",
    "    \n",
    "    Parameters\n",
    "    ----------\n",
    "    node : dictionary\n",
    "        If the node is terminal, it contains only the \"value\" key, which determines the value to be used as a prediction.\n",
    "        If the node is not terminal, the dictionary has the structure defined by `get_split`\n",
    "    min_samples : int\n",
    "        parameter for stopping criterion if a node has <= min_samples datapoints\n",
    "    max_depth : int\n",
    "        parameter for stopping criterion if a node belongs to this depth\n",
    "    depth : int\n",
    "        current distance from the root\n",
    "    X : pd.DataFrame\n",
    "        features (full dataset)\n",
    "    y : pd.Series\n",
    "        labels (full dataset)\n",
    "    \n",
    "    Notes\n",
    "    -----\n",
    "    To create a terminal node, a dictionary is created with a single \"value\" key, with a value that\n",
    "    is the mean of the target variable\n",
    "    \n",
    "    'left' and 'right' keys are added to non-terminal nodes, which contain (possibly terminal) nodes \n",
    "    from higher levels of the tree:\n",
    "    'left' corresponds to the 'left_region' key, and 'right' to the 'right_region' key\n",
    "    \"\"\"\n",
    "    l_idx = node['left_region']\n",
    "    r_idx = node['right_region']\n",
    "\n",
    "    if                                                                                  \\\n",
    "        (len(X) <= min_samples)             \\\n",
    "        or                                                                              \\\n",
    "        (current_depth >= max_depth)                                                    \\\n",
    "    :\n",
    "        return {\n",
    "            \"value\": np.mean(y)\n",
    "        }\n",
    "    \n",
    "    # X = X.drop(node['feature_index'], axis=1)\n",
    "    splited_infos = get_split(X, y)\n",
    "    l_idx = splited_infos['left_region']\n",
    "    r_idx = splited_infos['right_region']\n",
    "    \n",
    "    return {\n",
    "        'feature_index': splited_infos['feature_index'],\n",
    "        'tau': splited_infos['tau'],\n",
    "        'left': recursive_growth(splited_infos, min_samples, max_depth, current_depth+1, X.loc[l_idx], y.loc[l_idx]),\n",
    "        'right': recursive_growth(splited_infos, min_samples, max_depth, current_depth+1, X.loc[r_idx], y.loc[r_idx])\n",
    "    }"
   ]
  },
  {
   "cell_type": "code",
   "execution_count": 13,
   "id": "special-alexander",
   "metadata": {
    "tags": []
   },
   "outputs": [],
   "source": [
    "# fill in the gaps with your code\n",
    "min_samples = 10\n",
    "max_depth = 10\n",
    "root = get_split(X_train, t_train)\n",
    "tree_root = recursive_growth(root, min_samples, max_depth, 0, X_train, t_train)"
   ]
  },
  {
   "cell_type": "markdown",
   "id": "3a32ee99-9103-4586-8555-ccb905acd4cd",
   "metadata": {},
   "source": [
    "Below we provide code to visualise the generated tree!"
   ]
  },
  {
   "cell_type": "code",
   "execution_count": 22,
   "id": "8022f376-bff9-4455-9650-8ef66ca772da",
   "metadata": {},
   "outputs": [],
   "source": [
    "def print_tree(node, depth):\n",
    "    if 'value' in node.keys():\n",
    "        print('.  '*(depth-1), f\"[{node['value']}]\")\n",
    "    else:\n",
    "        print('.  '*depth, f'X_{node[\"feature_index\"]} < {node[\"tau\"]}')\n",
    "        print_tree(node['left'], depth+1)\n",
    "        print_tree(node['right'], depth+1)\n"
   ]
  },
  {
   "cell_type": "code",
   "execution_count": 23,
   "id": "natural-assignment",
   "metadata": {
    "tags": []
   },
   "outputs": [
    {
     "name": "stdout",
     "output_type": "stream",
     "text": [
      " X_12 < 9.67\n",
      ".   X_5 < 7.454\n",
      ".  .   X_7 < 1.6132\n",
      ".  .   [50.0]\n",
      ".  .  .   X_5 < 6.8\n",
      ".  .  .  .   X_5 < 6.546\n",
      ".  .  .  .  .   X_9 < 223.0\n",
      ".  .  .  .  .   [32.45]\n",
      ".  .  .  .  .   [22.837142857142855]\n",
      ".  .  .  .  .   X_4 < 0.532\n",
      ".  .  .  .  .   [27.859999999999996]\n",
      ".  .  .  .  .   [22.833333333333332]\n",
      ".  .  .  .   X_10 < 19.7\n",
      ".  .  .  .  .   X_5 < 6.943\n",
      ".  .  .  .  .   [29.928571428571427]\n",
      ".  .  .  .  .   [33.93703703703704]\n",
      ".  .  .  .   [25.166666666666668]\n",
      ".  .   X_0 < 3.47428\n",
      ".  .  .   X_0 < 0.57834\n",
      ".  .  .   [44.629411764705885]\n",
      ".  .  .   [50.0]\n",
      ".  .   [21.9]\n",
      ".   X_12 < 19.31\n",
      ".  .   X_12 < 14.8\n",
      ".  .  .   X_10 < 14.7\n",
      ".  .  .   [28.166666666666668]\n",
      ".  .  .  .   X_10 < 17.9\n",
      ".  .  .  .  .   X_2 < 3.24\n",
      ".  .  .  .  .   [28.0]\n",
      ".  .  .  .  .   [21.772000000000002]\n",
      ".  .  .  .  .   X_7 < 1.9512\n",
      ".  .  .  .  .   [15.700000000000001]\n",
      ".  .  .  .  .   [20.355714285714285]\n",
      ".  .  .   X_0 < 0.67191\n",
      ".  .  .  .   X_4 < 0.609\n",
      ".  .  .  .  .   X_5 < 6.172\n",
      ".  .  .  .  .   [19.931818181818176]\n",
      ".  .  .  .  .   [27.1]\n",
      ".  .  .  .   [16.614285714285714]\n",
      ".  .  .  .   X_6 < 71.0\n",
      ".  .  .  .   [10.95]\n",
      ".  .  .  .  .   X_6 < 85.7\n",
      ".  .  .  .  .   [17.583333333333332]\n",
      ".  .  .  .  .   [14.837499999999999]\n",
      ".  .   X_4 < 0.609\n",
      ".  .   [15.868749999999999]\n",
      ".  .  .   X_9 < 666.0\n",
      ".  .  .   [14.3375]\n",
      ".  .  .  .   X_7 < 1.9879\n",
      ".  .  .  .  .   X_7 < 1.4254\n",
      ".  .  .  .  .   [13.5]\n",
      ".  .  .  .  .   [9.014814814814814]\n",
      ".  .  .  .   [13.460000000000003]\n"
     ]
    }
   ],
   "source": [
    "print_tree(tree_root, 0)"
   ]
  },
  {
   "cell_type": "markdown",
   "id": "c1e063e7-58f5-4278-86fb-4096c29a32e7",
   "metadata": {},
   "source": [
    "# Exercise 6 -- Make a Prediction\n",
    "Use the a node to predict the class of a compatible dataset"
   ]
  },
  {
   "cell_type": "code",
   "execution_count": 16,
   "id": "bb6db1b9-7fb1-4949-8a31-a0eb7364d0ec",
   "metadata": {},
   "outputs": [],
   "source": [
    "def predict_sample(node: dict, sample: pd.Series):\n",
    "    \"\"\"\n",
    "    Makes a prediction based on the decision tree defined by `node`\n",
    "    \n",
    "    Parameters\n",
    "    ----------\n",
    "    node : dictionary\n",
    "        A node created one of the methods above\n",
    "    sample : array of size (n_features,)\n",
    "        a sample datapoint\n",
    "    \"\"\"\n",
    "    if 'value' in node.keys():\n",
    "        return node['value']\n",
    "    else:\n",
    "        if sample[node['feature_index']] < node['tau']:\n",
    "            return predict_sample(node['left'], sample)\n",
    "        else:\n",
    "            return predict_sample(node['right'], sample)\n",
    "\n",
    "\n",
    "def predict(node, X):\n",
    "    \"\"\"\n",
    "    Makes a prediction based on the decision tree defined by `node`\n",
    "    \n",
    "    Parameters\n",
    "    ----------\n",
    "    node : dictionary\n",
    "        A node created one of the methods above\n",
    "    X : array of size (n_samples, n_features)\n",
    "        n_samples predictions will be made\n",
    "    \"\"\"\n",
    "    predicted_values = pd.Series(np.array([x for x in range(len(X))]))\n",
    "\n",
    "    predicted_values = predicted_values.apply(lambda i: predict_sample(node, X.iloc[i]))\n",
    "\n",
    "    return predicted_values"
   ]
  },
  {
   "cell_type": "markdown",
   "id": "0660e974-11cf-4e0a-b402-a8f2ed3978c2",
   "metadata": {},
   "source": [
    "Now use the functions defined above to calculate the RMSE of the validation set. \n",
    "* Try first with `min_samples=20` and `max_depth=6` (for this values you should get a validation RMSE of ~8.8)\n",
    "\n",
    "Then, experiment with different values for the stopping criteria."
   ]
  },
  {
   "cell_type": "code",
   "execution_count": 17,
   "id": "3d9526e9-b82f-4783-b7e0-762fc87d68bf",
   "metadata": {},
   "outputs": [],
   "source": [
    "min_samples = 20\n",
    "max_depth = 6\n",
    "root = get_split(X_train, t_train)\n",
    "tree_root = recursive_growth(root, min_samples, max_depth, 0, X_train, t_train)"
   ]
  },
  {
   "cell_type": "code",
   "execution_count": 18,
   "id": "ac167321",
   "metadata": {},
   "outputs": [],
   "source": [
    "def root_mean_squared_error(y: np.ndarray, t: np.ndarray) -> float:\n",
    "    \"\"\"Function for calculating the RMSE\n",
    "\n",
    "    Args:\n",
    "        x (np.ndarray): Vector for making the RMSE\n",
    "\n",
    "    Returns:\n",
    "        float: RMSE\n",
    "    \"\"\"\n",
    "    x = y - t\n",
    "    return np.sqrt(np.sum(x**2)/len(x))"
   ]
  },
  {
   "cell_type": "code",
   "execution_count": 19,
   "id": "3acdc414",
   "metadata": {},
   "outputs": [],
   "source": [
    "from concurrent.futures import ThreadPoolExecutor\n",
    "\n",
    "def calculate_for_tree_with_i_depth(i):\n",
    "    tree_root = recursive_growth(root, min_samples, i, 0, X_train, t_train)\n",
    "\n",
    "    y_validation = predict(tree_root, X_validation).to_numpy().reshape(-1, 1)\n",
    "\n",
    "    return i, root_mean_squared_error(y_validation, t_validation), tree_root\n",
    "\n",
    "MAX_DEPTH_TRIES = 20\n",
    "\n",
    "results = []\n",
    "\n",
    "with ThreadPoolExecutor() as executor:\n",
    "    futures = []\n",
    "    \n",
    "    for i in range(MAX_DEPTH_TRIES):\n",
    "        futures.append(executor.submit(calculate_for_tree_with_i_depth, i+1))\n",
    "    \n",
    "    for f in futures:\n",
    "        results.append(f.result())"
   ]
  },
  {
   "cell_type": "code",
   "execution_count": 20,
   "id": "f09e2285",
   "metadata": {},
   "outputs": [
    {
     "data": {
      "image/png": "[encoded data removed]",
      "text/plain": [
       "<Figure size 640x480 with 1 Axes>"
      ]
     },
     "metadata": {},
     "output_type": "display_data"
    }
   ],
   "source": [
    "plt.title(\"VALIDATION ERROR IN FUNCTION OF MAX_DEPTH\")\n",
    "\n",
    "plt.plot(range(1, MAX_DEPTH_TRIES+1), list(map(lambda r: r[1], results)))\n",
    "\n",
    "plt.xticks(range(1, MAX_DEPTH_TRIES+1))\n",
    "\n",
    "plt.xlabel(\"MAX_DEPTH\")\n",
    "plt.ylabel(\"RMSE\")\n",
    "\n",
    "plt.show()"
   ]
  },
  {
   "cell_type": "code",
   "execution_count": 21,
   "id": "fdae10c1",
   "metadata": {},
   "outputs": [
    {
     "data": {
      "text/plain": [
       "np.float64(3.38931196909039)"
      ]
     },
     "execution_count": 21,
     "metadata": {},
     "output_type": "execute_result"
    }
   ],
   "source": [
    "best_tree = min(results, key=lambda r: r[1])[2]\n",
    "\n",
    "y_test = predict(best_tree, X_test)\n",
    "\n",
    "y_test = y_test.to_numpy().reshape(-1, 1)\n",
    "\n",
    "root_mean_squared_error(y_test, t_test)"
   ]
  }
 ],
 "metadata": {
  "kernelspec": {
   "display_name": "venv",
   "language": "python",
   "name": "python3"
  },
  "language_info": {
   "codemirror_mode": {
    "name": "ipython",
    "version": 3
   },
   "file_extension": ".py",
   "mimetype": "text/x-python",
   "name": "python",
   "nbconvert_exporter": "python",
   "pygments_lexer": "ipython3",
   "version": "3.12.3"
  }
 },
 "nbformat": 4,
 "nbformat_minor": 5
}
