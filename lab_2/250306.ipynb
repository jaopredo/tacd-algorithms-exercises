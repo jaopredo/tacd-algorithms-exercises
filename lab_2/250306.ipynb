{
 "cells": [
  {
   "cell_type": "code",
   "execution_count": 345,
   "id": "a7aaa172",
   "metadata": {},
   "outputs": [
    {
     "data": {
      "text/plain": [
       "250306"
      ]
     },
     "execution_count": 345,
     "metadata": {},
     "output_type": "execute_result"
    }
   ],
   "source": [
    "250306"
   ]
  },
  {
   "cell_type": "code",
   "execution_count": 346,
   "id": "0cf521a1-6dbe-4e99-908f-5066d4bb2d32",
   "metadata": {
    "tags": []
   },
   "outputs": [],
   "source": [
    "%matplotlib inline\n",
    "import pandas as pd\n",
    "import numpy as np\n",
    "import matplotlib.pyplot as plt\n",
    "import seaborn as sns\n",
    "from sklearn.model_selection import train_test_split\n",
    "from sklearn.linear_model import Lasso, ElasticNet\n",
    "from sklearn.metrics import mean_squared_error"
   ]
  },
  {
   "cell_type": "markdown",
   "id": "642edfed-44f8-4246-9669-f69d2d37dc11",
   "metadata": {},
   "source": [
    "# Linear Regression\n",
    "\n",
    "In this lab, we are going to continue to explore linear regression and introduce the concept of regularisation, specifically, Ridge Regression, Lasso and Elastic Net.\n",
    "\n"
   ]
  },
  {
   "cell_type": "markdown",
   "id": "24b34bcd-e75e-4a35-bfa5-7f4b3ad8f0df",
   "metadata": {},
   "source": [
    "### Load the housing dataset\n",
    "\n",
    "Using pandas, load the following dataset (available on eclass):\n",
    "\n",
    "**housing.csv:** this dataset is constituted by 506 points in 14 dimensions. Each point represents a house in the Boston area, and the 14 attributes that you find orderly in each column are the following:\n",
    "* `CRIM` - per capita crime rate by town\n",
    "* `ZN` - proportion of residential land zoned for lots over 25,000 sq.ft.\n",
    "* `INDUS` - proportion of non-retail business acres per town.\n",
    "* `CHAS` - Charles River dummy variable (1 if tract bounds river; 0 otherwise) \n",
    "* `NOX` - nitric oxides concentration (parts per 10 million)\n",
    "* `RM` - average number of rooms per dwelling\n",
    "* `AGE` - proportion of owner-occupied units built prior to 1940\n",
    "* `DIS` - weighted distances to five Boston employment centres\n",
    "* `RAD` - index of accessibility to radial highways\n",
    "* `TAX` - full-value property-tax rate per \\$10,000\n",
    "* `PTRATIO` - pupil-teacher ratio by town\n",
    "* `B` - 1000(Bk - 0.63)^2 where Bk is the proportion of blacks by town\n",
    "* `LSTAT` - % lower status of the population\n",
    "* `MEDV` - Median value of owner-occupied homes in $1000's\n",
    "\n",
    "This dataset is normally associated with 2 regression tasks: predicting `NOX` (in which the nitrous oxide level is to be predicted); and predicting price `MEDV` (in which the median value of a home is to be predicted).\n",
    "\n",
    "This dataset was also pre-processed and scaled."
   ]
  },
  {
   "cell_type": "code",
   "execution_count": 347,
   "id": "c20114bf",
   "metadata": {},
   "outputs": [
    {
     "data": {
      "text/html": [
       "<div>\n",
       "<style scoped>\n",
       "    .dataframe tbody tr th:only-of-type {\n",
       "        vertical-align: middle;\n",
       "    }\n",
       "\n",
       "    .dataframe tbody tr th {\n",
       "        vertical-align: top;\n",
       "    }\n",
       "\n",
       "    .dataframe thead th {\n",
       "        text-align: right;\n",
       "    }\n",
       "</style>\n",
       "<table border=\"1\" class=\"dataframe\">\n",
       "  <thead>\n",
       "    <tr style=\"text-align: right;\">\n",
       "      <th></th>\n",
       "      <th>CRIM</th>\n",
       "      <th>ZN</th>\n",
       "      <th>INDUS</th>\n",
       "      <th>CHAS</th>\n",
       "      <th>NOX</th>\n",
       "      <th>RM</th>\n",
       "      <th>AGE</th>\n",
       "      <th>DIS</th>\n",
       "      <th>RAD</th>\n",
       "      <th>TAX</th>\n",
       "      <th>PTRATIO</th>\n",
       "      <th>B</th>\n",
       "      <th>LSTAT</th>\n",
       "      <th>MEDV</th>\n",
       "    </tr>\n",
       "  </thead>\n",
       "  <tbody>\n",
       "    <tr>\n",
       "      <th>0</th>\n",
       "      <td>0.000000</td>\n",
       "      <td>0.165514</td>\n",
       "      <td>0.067815</td>\n",
       "      <td>0.0</td>\n",
       "      <td>0.273696</td>\n",
       "      <td>0.455845</td>\n",
       "      <td>0.495675</td>\n",
       "      <td>0.238389</td>\n",
       "      <td>0.000000</td>\n",
       "      <td>0.188979</td>\n",
       "      <td>0.252496</td>\n",
       "      <td>0.693147</td>\n",
       "      <td>0.085884</td>\n",
       "      <td>3.218876</td>\n",
       "    </tr>\n",
       "    <tr>\n",
       "      <th>1</th>\n",
       "      <td>0.000236</td>\n",
       "      <td>0.000000</td>\n",
       "      <td>0.242302</td>\n",
       "      <td>0.0</td>\n",
       "      <td>0.159428</td>\n",
       "      <td>0.436962</td>\n",
       "      <td>0.578128</td>\n",
       "      <td>0.299335</td>\n",
       "      <td>0.042560</td>\n",
       "      <td>0.099811</td>\n",
       "      <td>0.440312</td>\n",
       "      <td>0.693147</td>\n",
       "      <td>0.186040</td>\n",
       "      <td>3.117950</td>\n",
       "    </tr>\n",
       "    <tr>\n",
       "      <th>2</th>\n",
       "      <td>0.000236</td>\n",
       "      <td>0.000000</td>\n",
       "      <td>0.242302</td>\n",
       "      <td>0.0</td>\n",
       "      <td>0.159428</td>\n",
       "      <td>0.527320</td>\n",
       "      <td>0.469617</td>\n",
       "      <td>0.299335</td>\n",
       "      <td>0.042560</td>\n",
       "      <td>0.099811</td>\n",
       "      <td>0.440312</td>\n",
       "      <td>0.688003</td>\n",
       "      <td>0.061533</td>\n",
       "      <td>3.575151</td>\n",
       "    </tr>\n",
       "    <tr>\n",
       "      <th>3</th>\n",
       "      <td>0.000293</td>\n",
       "      <td>0.000000</td>\n",
       "      <td>0.063050</td>\n",
       "      <td>0.0</td>\n",
       "      <td>0.139941</td>\n",
       "      <td>0.505947</td>\n",
       "      <td>0.365901</td>\n",
       "      <td>0.370559</td>\n",
       "      <td>0.083382</td>\n",
       "      <td>0.064658</td>\n",
       "      <td>0.500130</td>\n",
       "      <td>0.690281</td>\n",
       "      <td>0.032843</td>\n",
       "      <td>3.538057</td>\n",
       "    </tr>\n",
       "    <tr>\n",
       "      <th>4</th>\n",
       "      <td>0.000705</td>\n",
       "      <td>0.000000</td>\n",
       "      <td>0.063050</td>\n",
       "      <td>0.0</td>\n",
       "      <td>0.139941</td>\n",
       "      <td>0.523014</td>\n",
       "      <td>0.424170</td>\n",
       "      <td>0.370559</td>\n",
       "      <td>0.083382</td>\n",
       "      <td>0.064658</td>\n",
       "      <td>0.500130</td>\n",
       "      <td>0.693147</td>\n",
       "      <td>0.094708</td>\n",
       "      <td>3.616309</td>\n",
       "    </tr>\n",
       "    <tr>\n",
       "      <th>...</th>\n",
       "      <td>...</td>\n",
       "      <td>...</td>\n",
       "      <td>...</td>\n",
       "      <td>...</td>\n",
       "      <td>...</td>\n",
       "      <td>...</td>\n",
       "      <td>...</td>\n",
       "      <td>...</td>\n",
       "      <td>...</td>\n",
       "      <td>...</td>\n",
       "      <td>...</td>\n",
       "      <td>...</td>\n",
       "      <td>...</td>\n",
       "      <td>...</td>\n",
       "    </tr>\n",
       "    <tr>\n",
       "      <th>501</th>\n",
       "      <td>0.000633</td>\n",
       "      <td>0.000000</td>\n",
       "      <td>0.420455</td>\n",
       "      <td>0.0</td>\n",
       "      <td>0.327021</td>\n",
       "      <td>0.458029</td>\n",
       "      <td>0.519848</td>\n",
       "      <td>0.115711</td>\n",
       "      <td>0.000000</td>\n",
       "      <td>0.151967</td>\n",
       "      <td>0.638489</td>\n",
       "      <td>0.686938</td>\n",
       "      <td>0.198109</td>\n",
       "      <td>3.152736</td>\n",
       "    </tr>\n",
       "    <tr>\n",
       "      <th>502</th>\n",
       "      <td>0.000438</td>\n",
       "      <td>0.000000</td>\n",
       "      <td>0.420455</td>\n",
       "      <td>0.0</td>\n",
       "      <td>0.327021</td>\n",
       "      <td>0.398993</td>\n",
       "      <td>0.565337</td>\n",
       "      <td>0.100111</td>\n",
       "      <td>0.000000</td>\n",
       "      <td>0.151967</td>\n",
       "      <td>0.638489</td>\n",
       "      <td>0.693147</td>\n",
       "      <td>0.184664</td>\n",
       "      <td>3.072693</td>\n",
       "    </tr>\n",
       "    <tr>\n",
       "      <th>503</th>\n",
       "      <td>0.000612</td>\n",
       "      <td>0.000000</td>\n",
       "      <td>0.420455</td>\n",
       "      <td>0.0</td>\n",
       "      <td>0.327021</td>\n",
       "      <td>0.503402</td>\n",
       "      <td>0.645695</td>\n",
       "      <td>0.090189</td>\n",
       "      <td>0.000000</td>\n",
       "      <td>0.151967</td>\n",
       "      <td>0.638489</td>\n",
       "      <td>0.693147</td>\n",
       "      <td>0.102459</td>\n",
       "      <td>3.214868</td>\n",
       "    </tr>\n",
       "    <tr>\n",
       "      <th>504</th>\n",
       "      <td>0.001160</td>\n",
       "      <td>0.000000</td>\n",
       "      <td>0.420455</td>\n",
       "      <td>0.0</td>\n",
       "      <td>0.327021</td>\n",
       "      <td>0.482097</td>\n",
       "      <td>0.636473</td>\n",
       "      <td>0.108419</td>\n",
       "      <td>0.000000</td>\n",
       "      <td>0.151967</td>\n",
       "      <td>0.638489</td>\n",
       "      <td>0.688788</td>\n",
       "      <td>0.123165</td>\n",
       "      <td>3.135494</td>\n",
       "    </tr>\n",
       "    <tr>\n",
       "      <th>505</th>\n",
       "      <td>0.000462</td>\n",
       "      <td>0.000000</td>\n",
       "      <td>0.420455</td>\n",
       "      <td>0.0</td>\n",
       "      <td>0.327021</td>\n",
       "      <td>0.387355</td>\n",
       "      <td>0.589045</td>\n",
       "      <td>0.117847</td>\n",
       "      <td>0.000000</td>\n",
       "      <td>0.151967</td>\n",
       "      <td>0.638489</td>\n",
       "      <td>0.693147</td>\n",
       "      <td>0.156749</td>\n",
       "      <td>2.557227</td>\n",
       "    </tr>\n",
       "  </tbody>\n",
       "</table>\n",
       "<p>506 rows × 14 columns</p>\n",
       "</div>"
      ],
      "text/plain": [
       "         CRIM        ZN     INDUS  CHAS       NOX        RM       AGE  \\\n",
       "0    0.000000  0.165514  0.067815   0.0  0.273696  0.455845  0.495675   \n",
       "1    0.000236  0.000000  0.242302   0.0  0.159428  0.436962  0.578128   \n",
       "2    0.000236  0.000000  0.242302   0.0  0.159428  0.527320  0.469617   \n",
       "3    0.000293  0.000000  0.063050   0.0  0.139941  0.505947  0.365901   \n",
       "4    0.000705  0.000000  0.063050   0.0  0.139941  0.523014  0.424170   \n",
       "..        ...       ...       ...   ...       ...       ...       ...   \n",
       "501  0.000633  0.000000  0.420455   0.0  0.327021  0.458029  0.519848   \n",
       "502  0.000438  0.000000  0.420455   0.0  0.327021  0.398993  0.565337   \n",
       "503  0.000612  0.000000  0.420455   0.0  0.327021  0.503402  0.645695   \n",
       "504  0.001160  0.000000  0.420455   0.0  0.327021  0.482097  0.636473   \n",
       "505  0.000462  0.000000  0.420455   0.0  0.327021  0.387355  0.589045   \n",
       "\n",
       "          DIS       RAD       TAX   PTRATIO         B     LSTAT      MEDV  \n",
       "0    0.238389  0.000000  0.188979  0.252496  0.693147  0.085884  3.218876  \n",
       "1    0.299335  0.042560  0.099811  0.440312  0.693147  0.186040  3.117950  \n",
       "2    0.299335  0.042560  0.099811  0.440312  0.688003  0.061533  3.575151  \n",
       "3    0.370559  0.083382  0.064658  0.500130  0.690281  0.032843  3.538057  \n",
       "4    0.370559  0.083382  0.064658  0.500130  0.693147  0.094708  3.616309  \n",
       "..        ...       ...       ...       ...       ...       ...       ...  \n",
       "501  0.115711  0.000000  0.151967  0.638489  0.686938  0.198109  3.152736  \n",
       "502  0.100111  0.000000  0.151967  0.638489  0.693147  0.184664  3.072693  \n",
       "503  0.090189  0.000000  0.151967  0.638489  0.693147  0.102459  3.214868  \n",
       "504  0.108419  0.000000  0.151967  0.638489  0.688788  0.123165  3.135494  \n",
       "505  0.117847  0.000000  0.151967  0.638489  0.693147  0.156749  2.557227  \n",
       "\n",
       "[506 rows x 14 columns]"
      ]
     },
     "execution_count": 347,
     "metadata": {},
     "output_type": "execute_result"
    }
   ],
   "source": [
    "housing_df = pd.read_csv('housing.csv')\n",
    "housing_df"
   ]
  },
  {
   "cell_type": "code",
   "execution_count": 348,
   "id": "b6875e51-c4b0-4f65-bbe9-c2fab8e8251d",
   "metadata": {
    "tags": []
   },
   "outputs": [],
   "source": [
    "X = housing_df.values[:,:-1]\n",
    "y = housing_df['MEDV']"
   ]
  },
  {
   "cell_type": "markdown",
   "id": "063952ce-7dcd-4570-88ce-1388a2198d51",
   "metadata": {},
   "source": [
    "### Let's split the data into training, validation and testing. 80% training, 10% validation and 10% testing.\n",
    "suggestion: use random_state=12"
   ]
  },
  {
   "cell_type": "code",
   "execution_count": 349,
   "id": "c07a77f3-c2b6-4bd8-bcec-24125d452202",
   "metadata": {
    "tags": []
   },
   "outputs": [],
   "source": [
    "X_train, X_to_split, y_train, y_to_split = train_test_split(X, y, train_size=.8, random_state=12)\n",
    "X_validation_lasso, X_test, y_validation, y_test = train_test_split(X_to_split, y_to_split, train_size=.5, random_state=12)\n",
    "\n",
    "X_train = np.insert(X_train, 0, 1, axis=1)\n",
    "X_test = np.insert(X_test, 0, 1, axis=1)\n",
    "X_validation_lasso = np.insert(X_validation_lasso, 0, 1, axis=1)\n",
    "\n",
    "y_train = y_train.to_numpy().reshape(-1, 1)\n",
    "y_test = y_test.to_numpy().reshape(-1, 1)\n",
    "y_validation = y_validation.to_numpy().reshape(-1, 1)"
   ]
  },
  {
   "cell_type": "markdown",
   "id": "2ca6a6b3-8855-40e9-b1e1-4fe65e25ef90",
   "metadata": {},
   "source": [
    "# Part I - Ridge Regression\n",
    "\n",
    "Now you will write code that implements Ridge Regression using the closed form from the slides."
   ]
  },
  {
   "cell_type": "code",
   "execution_count": 350,
   "id": "dcb865d2-50fc-41cf-a9fa-a1c6eb0f44d4",
   "metadata": {},
   "outputs": [],
   "source": [
    "def ridge_regression(dataset: np.ndarray, target: np.ndarray, lambd: np.ndarray, insert_ones_column: bool = True) -> np.ndarray:\n",
    "    \"\"\"Function to generate to found the weight vectors of a linear regression using Ridge Regression\n",
    "\n",
    "    Args:\n",
    "        dataset (np.ndarray): Dataset to be used\n",
    "        target (np.ndarray): Target values we want to obtain\n",
    "        lambd (np.ndarray): Regularization coefficient\n",
    "\n",
    "    Returns:\n",
    "        np.ndarray: Weights array\n",
    "    \"\"\"\n",
    "    if insert_ones_column:\n",
    "        dataset = np.insert(dataset, 0, 1, axis=1)\n",
    "    w = np.linalg.inv(lambd * np.identity(dataset.shape[1]) + dataset.T @ dataset) @ dataset.T @ target\n",
    "    return w"
   ]
  },
  {
   "cell_type": "markdown",
   "id": "7714d099-7f84-4cdc-9185-4910517eda1b",
   "metadata": {},
   "source": [
    "Test different values of $\\lambda$ on the validation set and choose the one that gives the best RMSE.\n",
    "\n",
    "Then plot the RMSE of the validation and training sets at different values of $\\lambda$. \n",
    "\n",
    "Try: 20 points in the interval $\\lambda \\in [0,2]$\n",
    "\n",
    "\n",
    "Your plot should like the one below."
   ]
  },
  {
   "cell_type": "code",
   "execution_count": 351,
   "id": "02ea55e0",
   "metadata": {},
   "outputs": [],
   "source": [
    "def plot_rmse_comparision_trainXvalidation_curve(\n",
    "    alphas: float | np.float64,\n",
    "    train_rmses: np.ndarray | list | tuple,\n",
    "    validation_rmses: np.ndarray | list | tuple,\n",
    "    title: str,\n",
    "    x_label: str = \"ALPHA\",\n",
    "):\n",
    "    \"\"\"Function made for plotting the RMSE error in function of the alpha for each set (Training and Validation)\n",
    "\n",
    "    Args:\n",
    "        alphas (float | np.float64): The alpha values\n",
    "        train_rmses (np.ndarray | list | tuple): Traning RMSE values in function of the alphas\n",
    "        validation_rmses (np.ndarray | list | tuple): Validation RMSE values in function of the alphas\n",
    "        title (str): Title of the Graphic\n",
    "        x_label (str, optional): Label to assign the ALPHA axis. Defaults to \"ALPHA\".\n",
    "    \"\"\"\n",
    "    # Ploting and comparing the curves\n",
    "    plt.title(title)\n",
    "    plt.plot(alphas, train_rmses, 'o--', linewidth=2, label='Training Data RMSE curve')\n",
    "    plt.plot(alphas, validation_rmses, 'x--', linewidth=2, label='Validation Data RMSE curve')\n",
    "\n",
    "    plt.ylabel('RMSE')\n",
    "    plt.xlabel(x_label)\n",
    "\n",
    "    plt.grid()\n",
    "\n",
    "    plt.legend()\n",
    "    plt.show()"
   ]
  },
  {
   "cell_type": "code",
   "execution_count": 352,
   "id": "588536cc-6720-4c65-baaa-dd8bcbcb3617",
   "metadata": {},
   "outputs": [
    {
     "name": "stdout",
     "output_type": "stream",
     "text": [
      "============== BEST LAMBDA ==============\n",
      "0.21052631578947367\n",
      "=== ERROR GENERATED BY THE BEST LAMBDA ===\n",
      "BEST VALIDATION ERROR: 0.20867119761751987\n"
     ]
    },
    {
     "data": {
      "image/png": "[encoded data removed]",
      "text/plain": [
       "<Figure size 640x480 with 1 Axes>"
      ]
     },
     "metadata": {},
     "output_type": "display_data"
    }
   ],
   "source": [
    "lambdas = np.linspace(0, 2, 20)  # 20 points for lambda (All between 0 and 2)\n",
    "train_rmses = []\n",
    "validation_rmses = []\n",
    "\n",
    "# Calculando os erros para vários valores de LAMBDA\n",
    "for lamb in lambdas:\n",
    "    w = ridge_regression(X_train, y_train, lamb, False)  # Getting the weights for that specific LAMBDA\n",
    "    w = w.reshape(-1, 1)\n",
    "\n",
    "    rmse_train = float(np.sqrt(np.mean((y_train - X_train @ w)**2)))  # Calculating the RMSE\n",
    "    rmse_validation = float(np.sqrt(np.mean((y_validation - X_validation_lasso @ w)**2)))\n",
    "\n",
    "    train_rmses.append(rmse_train)\n",
    "    validation_rmses.append(rmse_validation)\n",
    "\n",
    "best_validation_rmse = min(validation_rmses)  # Getting the best RMSE value\n",
    "best_train_rmse = min(train_rmses)\n",
    "\n",
    "# \n",
    "# PERSONAL NOTE:\n",
    "# When you're choosing the best lambda, you calculate the weights, compare the error obtained in the training\n",
    "# dataset and the validation dataset, and, in the end, when you're about to choose the lambda, you'll choose\n",
    "# the one that gived you the minimum error in the VALIDATION dataset!\n",
    "# #\n",
    "\n",
    "best_lambda_value = lambdas[validation_rmses.index(best_validation_rmse)]  # Getting the best Lambda value\n",
    "\n",
    "# ============= FAZENDO A PLOTAGEM DOS DADOS =============\n",
    "print(\"============== BEST LAMBDA ==============\")\n",
    "print(best_lambda_value)\n",
    "print(\"=== ERROR GENERATED BY THE BEST LAMBDA ===\")\n",
    "print(f\"BEST VALIDATION ERROR: {best_validation_rmse}\")\n",
    "\n",
    "plot_rmse_comparision_trainXvalidation_curve(\n",
    "    lambdas,\n",
    "    train_rmses,\n",
    "    validation_rmses,\n",
    "    \"Curve of the RMSE for each Lambda\",\n",
    "    'LAMBDA'\n",
    ")\n"
   ]
  },
  {
   "cell_type": "markdown",
   "id": "5185bf27-6689-45f4-b35c-27a7f4b93c2c",
   "metadata": {},
   "source": [
    "Now, after selecting the best $\\lambda$ based on the plot above, report the RMSE of the testing set.\n",
    "\n",
    "Don't forget to use the whole training set (train+validation) to train a model with the best value of $\\lambda$."
   ]
  },
  {
   "cell_type": "code",
   "execution_count": 353,
   "id": "100209b8-77ce-4e58-8abe-2341bf1bcbd9",
   "metadata": {},
   "outputs": [
    {
     "name": "stdout",
     "output_type": "stream",
     "text": [
      "============== TRAINING DATA RMSE ==============\n",
      "0.16943772896509235\n"
     ]
    }
   ],
   "source": [
    "X_train_and_validation = np.vstack((X_train, X_validation_lasso))\n",
    "y_train_and_validation = np.vstack((y_train, y_validation))\n",
    "\n",
    "w = ridge_regression(X_train_and_validation, y_train_and_validation, best_lambda_value, False)\n",
    "test_rmse = float(np.sqrt(np.mean((y_test - X_test @ w)**2)))\n",
    "\n",
    "print(\"============== TRAINING DATA RMSE ==============\")\n",
    "print(test_rmse)"
   ]
  },
  {
   "cell_type": "markdown",
   "id": "b451c94d-96e5-4629-90c1-da989e30bc67",
   "metadata": {},
   "source": [
    "# Part II - Lasso\n",
    "\n",
    "Now you will implement Lasso regression, but using the scikit-learn implementation to learn the weights.\n",
    "\n",
    "You will still use the same training/validation/testing folds as in Part I"
   ]
  },
  {
   "cell_type": "markdown",
   "id": "0d4eb715-e76d-4cc3-beb5-7c6f9ef9221d",
   "metadata": {},
   "source": [
    "The l1 term is controlled by the alpha parameter in the scikit-learn implementation of Lasso."
   ]
  },
  {
   "cell_type": "markdown",
   "id": "a16b6bc9-224f-4ab3-b3c0-7804e3e73f73",
   "metadata": {},
   "source": [
    "### The goal here is to again find a good value of alpha for the RMSE in the validation set. \n",
    "Experiment with some different values, generate the same plot as Part I, and report the RMSE of testing set after selecting the best alpha from the validation set."
   ]
  },
  {
   "cell_type": "code",
   "execution_count": 354,
   "id": "aed5f458",
   "metadata": {},
   "outputs": [],
   "source": [
    "# Generating the data again\n",
    "X_train, X_to_split, y_train, y_to_split = train_test_split(X, y, train_size=.8, random_state=12)\n",
    "X_validation, X_test, y_validation, y_test = train_test_split(X_to_split, y_to_split, train_size=.5, random_state=12)"
   ]
  },
  {
   "cell_type": "code",
   "execution_count": 355,
   "id": "61f35c87-e8c9-4eda-91f4-3e8502922387",
   "metadata": {},
   "outputs": [
    {
     "name": "stdout",
     "output_type": "stream",
     "text": [
      "============== BEST LAMBDA ==============\n",
      "0.0005263158368421053\n",
      "=== ERROR GENERATED BY THE BEST LAMBDA ===\n",
      "BEST VALIDATION ERROR: 0.21021173200677917\n"
     ]
    },
    {
     "data": {
      "image/png": "[encoded data removed]",
      "text/plain": [
       "<Figure size 640x480 with 1 Axes>"
      ]
     },
     "metadata": {},
     "output_type": "display_data"
    }
   ],
   "source": [
    "alphas = np.linspace(1e-10, 1e-3, 20)\n",
    "\n",
    "# Creating the list errors for plot comparision\n",
    "RMSEs_training = []\n",
    "RMSEs_validation = []\n",
    "\n",
    "# Checking values of alpha that I made\n",
    "for alpha in alphas:\n",
    "    lasso_regression = Lasso(alpha=alpha).fit(X_train, y_train)  # Creating the Lasso model\n",
    "    \n",
    "    # Getting the prediction on the Training dataset\n",
    "    y_predict_train = lasso_regression.predict(X_train)\n",
    "    # Getting the error on the Validation dataset\n",
    "    y_predict_validation = lasso_regression.predict(X_validation)\n",
    "\n",
    "    # Getting the error on the Training dataset\n",
    "    training_rmse = np.sqrt(np.mean((y_train - y_predict_train)**2))\n",
    "    # Getting the error on the Validation dataset\n",
    "    validation_rmse = np.sqrt(np.mean((y_validation - y_predict_validation)**2))\n",
    "\n",
    "    RMSEs_training.append(training_rmse)\n",
    "    RMSEs_validation.append(validation_rmse)\n",
    "\n",
    "best_rmse = min(RMSEs_validation)\n",
    "best_alpha = alphas[RMSEs_validation.index(best_rmse)]\n",
    "\n",
    "print(\"============== BEST LAMBDA ==============\")\n",
    "print(best_alpha)\n",
    "print(\"=== ERROR GENERATED BY THE BEST LAMBDA ===\")\n",
    "print(f\"BEST VALIDATION ERROR: {best_rmse}\")\n",
    "plot_rmse_comparision_trainXvalidation_curve(\n",
    "    alphas,\n",
    "    RMSEs_training,\n",
    "    RMSEs_validation,\n",
    "    \"Curve of the RMSE for each Alpha\"\n",
    ")"
   ]
  },
  {
   "cell_type": "markdown",
   "id": "3b96b14f-ef5c-4810-8527-ef2ab07fe338",
   "metadata": {},
   "source": [
    "# Part III Elastic Net\n",
    "\n",
    "Now let's combine both ridge and lasso and implement Elastic Net Regression, again we'll use the sklearn implementation."
   ]
  },
  {
   "cell_type": "markdown",
   "id": "9595e120-f8bb-48d5-bb22-d786dddfd99f",
   "metadata": {},
   "source": [
    "Following the guidelines from Part II, implement Elastic Net using the sklearn implementation ElasticNet()\n",
    "\n",
    "I strongly advise you to read the documentation: https://scikit-learn.org/stable/modules/generated/sklearn.linear_model.ElasticNet.html"
   ]
  },
  {
   "cell_type": "markdown",
   "id": "dc8448f4-a37d-4467-baea-8d1a5453ccdb",
   "metadata": {},
   "source": [
    "For simplicity here, let's apply the best $\\lambda$ of Part I and the best alpha from Part II and train an Elastic Net model and report the testing set RMSE."
   ]
  },
  {
   "cell_type": "code",
   "execution_count": 356,
   "id": "abef1e61-c6aa-41f7-a087-49ca6f86a7b1",
   "metadata": {},
   "outputs": [
    {
     "name": "stdout",
     "output_type": "stream",
     "text": [
      "0.030216106323317976\n"
     ]
    }
   ],
   "source": [
    "elastic_regression = ElasticNet(alpha=best_alpha, l1_ratio=best_lambda_value)\n",
    "elastic_regression.fit(X_train, y_train)\n",
    "\n",
    "y_predict_test = elastic_regression.predict(X_test)\n",
    "\n",
    "rmse = float(np.sqrt(np.mean(y_test - y_predict_test)**2))\n",
    "\n",
    "print(rmse)"
   ]
  }
 ],
 "metadata": {
  "kernelspec": {
   "display_name": "venv",
   "language": "python",
   "name": "python3"
  },
  "language_info": {
   "codemirror_mode": {
    "name": "ipython",
    "version": 3
   },
   "file_extension": ".py",
   "mimetype": "text/x-python",
   "name": "python",
   "nbconvert_exporter": "python",
   "pygments_lexer": "ipython3",
   "version": "3.12.3"
  }
 },
 "nbformat": 4,
 "nbformat_minor": 5
}
