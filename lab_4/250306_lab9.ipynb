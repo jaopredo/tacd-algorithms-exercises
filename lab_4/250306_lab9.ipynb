{
 "cells": [
  {
   "cell_type": "code",
   "execution_count": 52,
   "id": "444de124",
   "metadata": {},
   "outputs": [
    {
     "data": {
      "text/plain": [
       "250306"
      ]
     },
     "execution_count": 52,
     "metadata": {},
     "output_type": "execute_result"
    }
   ],
   "source": [
    "250306"
   ]
  },
  {
   "cell_type": "code",
   "execution_count": 53,
   "id": "425ac6e9-8919-4c06-be1c-782241f835f6",
   "metadata": {
    "tags": []
   },
   "outputs": [],
   "source": [
    "import numpy as np\n",
    "import pandas as pd\n",
    "from sklearn.model_selection import train_test_split\n",
    "import matplotlib.pyplot as plt"
   ]
  },
  {
   "cell_type": "markdown",
   "id": "fc6f6b7d-1fdf-43a4-bd7c-03d90114d3fb",
   "metadata": {},
   "source": [
    "# Lab 9 - Multi-layer Perceptron Forward Pass & Backpropagation"
   ]
  },
  {
   "cell_type": "markdown",
   "id": "b99c1b83-fb9a-4321-882b-fd0c74d2ab1b",
   "metadata": {},
   "source": [
    "## Part I\n",
    "For this exercise you will implement a simple 2-layer perceptron with the forward pass and the backpropagation to learn the weights\n",
    "\n",
    "For the first part you'll build and train a 2-layer neural network that predicts the prices of houses, using the usual Boston housing dataset."
   ]
  },
  {
   "cell_type": "code",
   "execution_count": 54,
   "id": "7804bef6-2bd6-4d05-bc4e-f9d8325f12ec",
   "metadata": {
    "tags": []
   },
   "outputs": [],
   "source": [
    "boston = pd.read_csv('data/housing.csv')"
   ]
  },
  {
   "cell_type": "markdown",
   "id": "d6bdfc73-7702-4a3c-af9f-6fb897ec643c",
   "metadata": {
    "tags": []
   },
   "source": [
    "As usual, consider the MEDV as your target variable. \n",
    "* Split the data into training, validation and testing (70,15,15)%\n",
    "* Experiment with different number of neurons per layer for your network, using the validation set"
   ]
  },
  {
   "cell_type": "code",
   "execution_count": 55,
   "id": "5df5bfc8-26c0-4d48-9c3c-05a9e404e1d4",
   "metadata": {
    "tags": []
   },
   "outputs": [],
   "source": [
    "t = boston['MEDV']\n",
    "boston = boston.drop(['MEDV'], axis=1)\n",
    "\n",
    "X_train, X_to_split, t_train, t_to_split = train_test_split(boston, t, train_size=.7)\n",
    "X_validation, X_test, t_validation, t_test = train_test_split(X_to_split, t_to_split, train_size=.5)\n",
    "\n",
    "X_train = X_train.to_numpy()\n",
    "X_validation = X_validation.to_numpy()\n",
    "X_test = X_test.to_numpy()\n",
    "\n",
    "t_train = t_train.to_numpy()\n",
    "t_validation = t_validation.to_numpy()\n",
    "t_test = t_test.to_numpy()"
   ]
  },
  {
   "cell_type": "code",
   "execution_count": 56,
   "id": "dbe0f51d",
   "metadata": {},
   "outputs": [],
   "source": [
    "def sigmoid(z: np.ndarray | pd.Series) -> np.ndarray:\n",
    "    \"\"\"Sigmoid Function\n",
    "\n",
    "    Args:\n",
    "        z (np.ndarray | pd.Series): The vector that we'll apply the sigmoid function\n",
    "    \"\"\"\n",
    "    return 1 / (1 + np.exp(-z))\n",
    "\n",
    "\n",
    "def d_sigmoid(x: np.ndarray | pd.Series) -> np.ndarray:\n",
    "    \"\"\"Sigmoid Derivate Function\n",
    "\n",
    "    Args:\n",
    "        z (np.ndarray | pd.Series): Vector that will have the sigmoid applied\n",
    "\n",
    "    Returns:\n",
    "        np.ndarray: Derivative applied\n",
    "    \"\"\"\n",
    "    return sigmoid(x) * (1 - sigmoid(x))\n",
    "\n",
    "\n",
    "def root_mean_squared_error(x: np.ndarray) -> float:\n",
    "    \"\"\"Function for calculating the RMSE\n",
    "\n",
    "    Args:\n",
    "        x (np.ndarray): Vector for making the RMSE\n",
    "\n",
    "    Returns:\n",
    "        float: RMSE\n",
    "    \"\"\"\n",
    "    return np.sqrt(np.sum(x**2)/len(x))\n"
   ]
  },
  {
   "cell_type": "code",
   "execution_count": 57,
   "id": "dcc26211-91c1-47f9-8779-eb723b0c209e",
   "metadata": {},
   "outputs": [],
   "source": [
    "class TwoLayerNeuralNetwork:\n",
    "    def __init__(self, activation, D, M, K):\n",
    "        \"\"\"Implements the forward pass of a two-layer fully connected perceptron.\n",
    "    \n",
    "        Parameters\n",
    "        ----------\n",
    "        X : a 2-dimensional array\n",
    "            the input data\n",
    "        activation : function\n",
    "            the activation function to be used for the hidden layer\n",
    "        dim_input : int\n",
    "            the dimensionality of the input layer\n",
    "        dim_hidden : int\n",
    "            the dimensionality of the hidden layer\n",
    "        dim_output : int\n",
    "            the dimensionality of the output layer\n",
    "        Returns\n",
    "        -------\n",
    "        y_pred : float\n",
    "            the output of the computation of the forward pass of the network\n",
    "        \"\"\"\n",
    "        self.activation = activation\n",
    "        self.dim_input = D\n",
    "        self.dim_hidden = M\n",
    "        self.dim_output = K\n",
    "\n",
    "        self.W_1 = np.random.standard_normal(size=(self.dim_input, self.dim_hidden))\n",
    "        self.b_1 = np.random.standard_normal(size=(1, self.dim_hidden))\n",
    "        self.W_2 = np.random.standard_normal(size=(self.dim_hidden, self.dim_output))\n",
    "        self.b_2 = np.random.standard_normal(size=(1, self.dim_output))\n",
    "    \n",
    "    def restart_weights(self):\n",
    "        self.W_1 = np.random.standard_normal(size=(self.dim_input, self.dim_hidden))\n",
    "        self.b_1 = np.random.standard_normal(size=(1, self.dim_hidden))\n",
    "        self.W_2 = np.random.standard_normal(size=(self.dim_hidden, self.dim_output))\n",
    "        self.b_2 = np.random.standard_normal(size=(1, self.dim_output))\n",
    "    \n",
    "    def train(self, X_train: np.ndarray, t_train: np.ndarray, epochs:int=10, learning_rate:float=.0001) -> list:\n",
    "        \"\"\"This method trains the network's weights based on the training sets passed\n",
    "\n",
    "        Args:\n",
    "            X_train (np.ndarray): The training set\n",
    "            t_train (np.ndarray): The training target\n",
    "            epochs (int, optional): Number of epochs to train the model. Defaults to 10.\n",
    "            learning_rate (float, optional): The learning rate. Defaults to .0001.\n",
    "\n",
    "        Returns:\n",
    "            list: List containing the RMSE of the tests for each epoch\n",
    "        \"\"\"\n",
    "        rmses = []  # List of lists of errors, each lists represents an epoch\n",
    "\n",
    "        for _ in range(epochs):\n",
    "            for n, x_n in enumerate(X_train):\n",
    "                x_n = x_n.reshape(1,-1)\n",
    "                t_n = t_train[n]  # (1, K)  # Getting the wanted output\n",
    "                \n",
    "                # Applying the regression on x_n\n",
    "                y_n = self.activation(x_n @ self.W_1 + self.b_1) @ self.W_2 + self.b_2\n",
    "                # h( (1xD)(DxM) + (1xM) ) => (1xM)(MxK) + (1xK) => (1xK)\n",
    "\n",
    "                # Applying the Backpropagation\n",
    "                z_1 = self.activation(x_n @ self.W_1 + self.b_1)                                   # (1 x M)\n",
    "\n",
    "                dW_2 = z_1.T @ ((y_n - t_n))                                                       # M x K\n",
    "                #      (Mx1)       (1xK)\n",
    "                db_2 = (y_n - t_n)                                                                 # (1xK)\n",
    "\n",
    "                dW_1 = x_n.T @ ((y_n - t_n) @ self.W_2.T) * d_sigmoid(x_n @ self.W_1 + self.b_1)   # (DxM)\n",
    "                #      (Dx1)        (1xK)        (KxM)               (1xM)\n",
    "                db_1 = ((y_n - t_n) @ self.W_2.T) * d_sigmoid(x_n @ self.W_1 + self.b_1)           # (1xM)\n",
    "\n",
    "                # Backward pass\n",
    "                self.W_1 = self.W_1 - learning_rate*dW_1\n",
    "                self.W_2 = self.W_2 - learning_rate*dW_2\n",
    "                self.b_1 = self.b_1 - learning_rate*db_1\n",
    "                self.b_2 = self.b_2 - learning_rate*db_2\n",
    "\n",
    "            y_train = self.activation(X_train @ self.W_1 + self.b_1) @ self.W_2 + self.b_2\n",
    "            rmses.append(root_mean_squared_error(y_train - t_train))\n",
    "        \n",
    "        return rmses\n",
    "\n",
    "    def fit(self, X):\n",
    "        return self.activation(X @ self.W_1 + self.b_1) @ self.W_2 + self.b_2\n",
    "\n",
    "    def validate(\n",
    "        self,\n",
    "        X_train: np.ndarray,\n",
    "        t_train: np.ndarray,\n",
    "        X_validation: np.ndarray,\n",
    "        t_validation: np.ndarray,\n",
    "        max_layers_number: int = 10\n",
    "    ):\n",
    "        \"\"\"Function that updates the hyperparameters of our network. IMPORTANT: It updates the hyperparameters\n",
    "        but it doesn't retrain our network, that means, if this function finds out that the best number of\n",
    "        layers is 6 and we first trained it with 8, it won't update our layer to have 6 outputs, you'll need\n",
    "        to retrain it\n",
    "\n",
    "        Args:\n",
    "            X_train (np.ndarray): Train set\n",
    "            t_train (np.ndarray): Train target\n",
    "            X_validation (np.ndarray): Validation set\n",
    "            t_validation (np.ndarray): Validation target\n",
    "            max_layers_number (int, optional): Maximum amount of layers to test. Defaults to 10.\n",
    "        \"\"\"\n",
    "        rmse_history = []\n",
    "\n",
    "        for numbers_layer in range(max_layers_number):\n",
    "            self.dim_hidden = numbers_layer\n",
    "            self.restart_weights()\n",
    "            self.train(X_train, t_train)\n",
    "\n",
    "            y_validation = self.fit(X_validation)\n",
    "            rmse_history.append(root_mean_squared_error(y_validation - t_validation))\n",
    "        \n",
    "        self.dim_hidden = rmse_history.index(min(rmse_history))\n",
    "        self.restart_weights()\n",
    "\n",
    "        self.train(np.r_[X_train, X_validation], np.r_[t_train, t_validation])"
   ]
  },
  {
   "cell_type": "code",
   "execution_count": 58,
   "id": "3ae3f153",
   "metadata": {},
   "outputs": [],
   "source": [
    "epochs = 100\n",
    "model = TwoLayerNeuralNetwork(sigmoid, X_train.shape[1], 8, 1)\n",
    "rmses = model.train(X_train, t_train, epochs)"
   ]
  },
  {
   "cell_type": "markdown",
   "id": "1a02a747",
   "metadata": {},
   "source": [
    "Now, let's check the model's RMSE passing the epochs"
   ]
  },
  {
   "cell_type": "code",
   "execution_count": 59,
   "id": "d29c46a8",
   "metadata": {},
   "outputs": [
    {
     "data": {
      "image/png": "[encoded data removed]",
      "text/plain": [
       "<Figure size 640x480 with 1 Axes>"
      ]
     },
     "metadata": {},
     "output_type": "display_data"
    }
   ],
   "source": [
    "plt.title(\"Network's RMSE for each epoch\")\n",
    "\n",
    "plt.plot([x+1 for x in range(epochs)], rmses, label=\"RMSE\")\n",
    "\n",
    "plt.xlim(left=1)\n",
    "\n",
    "plt.grid()\n",
    "plt.legend()\n",
    "plt.show()"
   ]
  },
  {
   "cell_type": "markdown",
   "id": "d949f267",
   "metadata": {},
   "source": [
    "Let's check our RMSE with this trained model"
   ]
  },
  {
   "cell_type": "code",
   "execution_count": 60,
   "id": "a34ade1a",
   "metadata": {},
   "outputs": [
    {
     "data": {
      "text/plain": [
       "np.float64(4.314850706111164)"
      ]
     },
     "execution_count": 60,
     "metadata": {},
     "output_type": "execute_result"
    }
   ],
   "source": [
    "y_test = model.fit(X_test)\n",
    "root_mean_squared_error(y_test - t_test)"
   ]
  },
  {
   "cell_type": "markdown",
   "id": "8fbb752b",
   "metadata": {},
   "source": [
    "But we still need to look for the best hyperparameters, so, let's validate our network and check the new RMSE"
   ]
  },
  {
   "cell_type": "code",
   "execution_count": 61,
   "id": "9184732e",
   "metadata": {},
   "outputs": [
    {
     "data": {
      "text/plain": [
       "np.float64(4.994883234666671)"
      ]
     },
     "execution_count": 61,
     "metadata": {},
     "output_type": "execute_result"
    }
   ],
   "source": [
    "model.validate(X_train, t_train, X_validation, t_validation, 12)\n",
    "\n",
    "# Checking the new RMSE\n",
    "y_test = model.fit(X_test)\n",
    "root_mean_squared_error(y_test - t_test)"
   ]
  },
  {
   "cell_type": "markdown",
   "id": "fa6650ab-79e5-4636-a4c9-84b977c48541",
   "metadata": {},
   "source": [
    "## Part II \n",
    "\n",
    "For this exercise you will build and train a 2-layer neural network that predicts the exact digit from a hand-written image, using the MNIST dataset. \n",
    "For this exercise, add weight decay to your network."
   ]
  },
  {
   "cell_type": "code",
   "execution_count": 62,
   "id": "3bfe2473-16e8-4dce-9e5b-7d5ce1154200",
   "metadata": {
    "tags": []
   },
   "outputs": [],
   "source": [
    "from sklearn.datasets import load_digits"
   ]
  },
  {
   "cell_type": "code",
   "execution_count": 63,
   "id": "4f8f04ee-c8e6-4531-9ad4-b0e530e1f92d",
   "metadata": {
    "tags": []
   },
   "outputs": [],
   "source": [
    "digits = load_digits()"
   ]
  },
  {
   "cell_type": "code",
   "execution_count": 64,
   "id": "6c49e3cd-e16a-4847-ac73-b9628f3f159a",
   "metadata": {
    "tags": []
   },
   "outputs": [],
   "source": [
    "X = digits.data\n",
    "t = digits.target"
   ]
  },
  {
   "cell_type": "code",
   "execution_count": 65,
   "id": "172b3419-d470-433f-87f9-4df67e4761e8",
   "metadata": {
    "tags": []
   },
   "outputs": [
    {
     "data": {
      "text/plain": [
       "(1797, 64)"
      ]
     },
     "execution_count": 65,
     "metadata": {},
     "output_type": "execute_result"
    }
   ],
   "source": [
    "X.shape"
   ]
  },
  {
   "cell_type": "markdown",
   "id": "ebdaf177-1cda-4c04-8d12-090678310602",
   "metadata": {},
   "source": [
    "Again, you will split the data into training, validation and testing."
   ]
  },
  {
   "cell_type": "code",
   "execution_count": null,
   "id": "8519363c-f7e0-43a8-ba4e-a33ab9d5b96e",
   "metadata": {},
   "outputs": [],
   "source": [
    "X_train, X_to_split, t_train, t_to_split = train_test_split(X, t, train_size=.7)\n",
    "X_validation, X_test, t_validation, t_test = train_test_split(X_to_split, t_to_split, train_size=.5)\n",
    "\n",
    "t_train = t_train.reshape(-1, 1)\n",
    "t_validation = t_validation.reshape(-1, 1)\n",
    "t_test = t_test.reshape(-1, 1)\n",
    "\n",
    "X_train = (X_train - X_train.mean()) / X_train.std()\n",
    "X_validation = (X_validation - X_train.mean()) / X_train.std()\n",
    "X_test  = (X_test  - X_train.mean()) / X_train.std()"
   ]
  },
  {
   "cell_type": "code",
   "execution_count": 114,
   "id": "db04cbb6",
   "metadata": {},
   "outputs": [],
   "source": [
    "def relu(x):\n",
    "    return np.maximum(0, x)\n",
    "\n",
    "def d_relu(x):\n",
    "    return (x > 0).astype(float)"
   ]
  },
  {
   "cell_type": "code",
   "execution_count": null,
   "id": "d63be667",
   "metadata": {},
   "outputs": [],
   "source": [
    "def soft_max(a_k: np.ndarray) -> np.ndarray:\n",
    "    # a_k shape = (n_samples, n_classes)\n",
    "    exp_values = np.exp(a_k - np.max(a_k, axis=1, keepdims=True))  # estabilidade numérica\n",
    "    return exp_values / np.sum(exp_values, axis=1, keepdims=True)"
   ]
  },
  {
   "cell_type": "code",
   "execution_count": 68,
   "id": "ea9bbd82",
   "metadata": {},
   "outputs": [],
   "source": [
    "def cross_entropy(y, t):\n",
    "    return -np.mean(np.sum(t * np.log(y+1e-10), axis=1))"
   ]
  }
 ],
 "metadata": {
  "kernelspec": {
   "display_name": "venv",
   "language": "python",
   "name": "python3"
  },
  "language_info": {
   "codemirror_mode": {
    "name": "ipython",
    "version": 3
   },
   "file_extension": ".py",
   "mimetype": "text/x-python",
   "name": "python",
   "nbconvert_exporter": "python",
   "pygments_lexer": "ipython3",
   "version": "3.12.3"
  }
 },
 "nbformat": 4,
 "nbformat_minor": 5
}
