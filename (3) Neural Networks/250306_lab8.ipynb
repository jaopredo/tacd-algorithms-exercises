{
 "cells": [
  {
   "cell_type": "code",
   "execution_count": null,
   "id": "3c9e763f",
   "metadata": {},
   "outputs": [],
   "source": [
    "250306"
   ]
  },
  {
   "cell_type": "code",
   "execution_count": 66,
   "id": "425ac6e9-8919-4c06-be1c-782241f835f6",
   "metadata": {
    "tags": []
   },
   "outputs": [],
   "source": [
    "import numpy as np\n",
    "import pandas as pd\n",
    "from sklearn.model_selection import train_test_split"
   ]
  },
  {
   "cell_type": "markdown",
   "id": "fc6f6b7d-1fdf-43a4-bd7c-03d90114d3fb",
   "metadata": {},
   "source": [
    "# Lab 8 - Multi-layer Perceptron Forward Pass"
   ]
  },
  {
   "cell_type": "markdown",
   "id": "c353aba0-7656-45d0-961a-850e9f31f967",
   "metadata": {},
   "source": [
    "## Part I\n",
    "For this exercise you will implement a simple 2-layer perceptron (forward pass)\n",
    "\n",
    "For the first part you'll write a function that computes the forward pass of a 2-layer perecptron that predicts the prices of houses, using the usual Boston housing dataset."
   ]
  },
  {
   "cell_type": "code",
   "execution_count": 67,
   "id": "7804bef6-2bd6-4d05-bc4e-f9d8325f12ec",
   "metadata": {
    "tags": []
   },
   "outputs": [],
   "source": [
    "boston = pd.read_csv('data/housing.csv')\n",
    "\n",
    "# I changed for \"housing.csv\" because the original file came with an error that didn't the\n",
    "# columns' labels, so I got a version we used in lab 2"
   ]
  },
  {
   "cell_type": "markdown",
   "id": "8bc1af35-c3bc-48b5-916a-63bf0dd535cb",
   "metadata": {
    "tags": []
   },
   "source": [
    "As usual, consider the MEDV as your target variable. \n",
    "* Split the data into training, validation and testing (70,15,15)% (you will need this for the next lab as we will build from this lab)"
   ]
  },
  {
   "cell_type": "code",
   "execution_count": 68,
   "id": "5df5bfc8-26c0-4d48-9c3c-05a9e404e1d4",
   "metadata": {
    "tags": []
   },
   "outputs": [],
   "source": [
    "X_train, X_to_split, y_train, y_to_split = train_test_split(boston.drop(['MEDV'], axis=1), boston['MEDV'], train_size=.7)\n",
    "X_test, X_validation, y_test, y_validation = train_test_split(X_to_split, y_to_split, train_size=.5)\n",
    "\n",
    "X_train = X_train.to_numpy()\n",
    "X_test = X_test.to_numpy()\n",
    "X_validation = X_validation.to_numpy()\n",
    "\n",
    "y_train = y_train.to_numpy().reshape(-1, 1)\n",
    "y_test = y_test.to_numpy().reshape(-1, 1)\n",
    "y_validation = y_validation.to_numpy().reshape(-1, 1)"
   ]
  },
  {
   "cell_type": "markdown",
   "id": "1656b9eb-c272-43fb-8fe5-c095cf8461ad",
   "metadata": {},
   "source": [
    "Now you will write the function that computes the forward pass. \n",
    "* I provide here a structure that you can follow for your function, but again, feel free to modify it as you see fit.\n",
    "* Use the sigmoid function as the activation of the hidden layer.\n",
    "* Don't forget about the biases!\n",
    "* *It is up to you to think what should be the activation for the output layer.*"
   ]
  },
  {
   "cell_type": "code",
   "execution_count": 69,
   "id": "c582d2ac-e33c-47a7-8e24-fecadf38c53a",
   "metadata": {},
   "outputs": [],
   "source": [
    "def sigmoid_activation(z: np.ndarray | pd.Series) -> np.ndarray:\n",
    "    \"\"\"Sigmoid Function\n",
    "\n",
    "    Args:\n",
    "        z (np.ndarray | pd.Series): The vector that we'll apply the sigmoid function\n",
    "    \"\"\"\n",
    "    return 1 / (1 + np.exp(-z))"
   ]
  },
  {
   "cell_type": "code",
   "execution_count": 70,
   "id": "30eb784e-a9c5-4a70-afcd-bcaf356aa576",
   "metadata": {},
   "outputs": [],
   "source": [
    "np.random.seed(0)\n",
    "\n",
    "def two_layer_perceptron(X, activation, dim_input, dim_hidden, dim_output):\n",
    "    \"\"\"\n",
    "    Implements the forward pass of a two-layer fully connected perceptron.\n",
    "    \n",
    "    Parameters\n",
    "    ----------\n",
    "    X : a 2-dimensional array\n",
    "        the input data\n",
    "    activation : function\n",
    "        the activation function to be used for the hidden layer\n",
    "    dim_input : int\n",
    "        the dimensionality of the input layer\n",
    "    dim_hidden : int\n",
    "        the dimensionality of the hidden layer\n",
    "    dim_output : int\n",
    "        the dimensionality of the output layer\n",
    "    Returns\n",
    "    -------\n",
    "    y_pred : float\n",
    "        the output of the computation of the forward pass of the network\n",
    "    \"\"\"\n",
    "    W_1 = np.random.random_sample((dim_input, dim_hidden))\n",
    "    W_2 = np.random.random_sample((dim_hidden, dim_output))\n",
    "\n",
    "    Y = activation( X @ W_1 ) @ W_2\n",
    "\n",
    "    return Y"
   ]
  },
  {
   "cell_type": "markdown",
   "id": "f18eb5a0-15c8-4c98-8481-5ca52a27da2d",
   "metadata": {},
   "source": [
    "Calculate the RMSE of the forward pass. "
   ]
  },
  {
   "cell_type": "markdown",
   "id": "6a8c864a",
   "metadata": {},
   "source": [
    "**Personal note**: This algorithm is called _multi-layer perceptron_, but it has nothing to do with the original perceptron used for classification. It is because a \"historic residue\"."
   ]
  },
  {
   "cell_type": "code",
   "execution_count": 71,
   "id": "dcc26211-91c1-47f9-8779-eb723b0c209e",
   "metadata": {},
   "outputs": [],
   "source": [
    "# Because we are not learning the weights, I'll just use the training set for this one\n",
    "predicted_y_train = two_layer_perceptron(X_train, sigmoid_activation, X_train.shape[1], 8, 1)\n",
    "\n",
    "# Personal note: The output_dim = 1 because we want to make a predicion, so I'll not make any type\n",
    "# of activation on the output dimension, only a regular linear regression\n",
    "\n",
    "difference = predicted_y_train - y_train\n",
    "RMSE = np.sqrt((1/y_train.shape[0])*(difference.T @ difference)**2)[0, 0]"
   ]
  },
  {
   "cell_type": "markdown",
   "id": "fa6650ab-79e5-4636-a4c9-84b977c48541",
   "metadata": {},
   "source": [
    "## Part II \n",
    "\n",
    "For this exercise you will write a function that calculates the forward pass of a 2-layer perceptron that predicts the exact digit from a hand-written image, using the MNIST dataset. "
   ]
  },
  {
   "cell_type": "code",
   "execution_count": 72,
   "id": "3bfe2473-16e8-4dce-9e5b-7d5ce1154200",
   "metadata": {
    "tags": []
   },
   "outputs": [],
   "source": [
    "from sklearn.datasets import load_digits"
   ]
  },
  {
   "cell_type": "code",
   "execution_count": 73,
   "id": "4f8f04ee-c8e6-4531-9ad4-b0e530e1f92d",
   "metadata": {
    "tags": []
   },
   "outputs": [],
   "source": [
    "digits = load_digits()"
   ]
  },
  {
   "cell_type": "code",
   "execution_count": 74,
   "id": "6c49e3cd-e16a-4847-ac73-b9628f3f159a",
   "metadata": {
    "tags": []
   },
   "outputs": [],
   "source": [
    "X = digits.data\n",
    "y = digits.target.reshape(-1, 1)"
   ]
  },
  {
   "cell_type": "code",
   "execution_count": 75,
   "id": "172b3419-d470-433f-87f9-4df67e4761e8",
   "metadata": {
    "tags": []
   },
   "outputs": [
    {
     "data": {
      "text/plain": [
       "(1797, 64)"
      ]
     },
     "execution_count": 75,
     "metadata": {},
     "output_type": "execute_result"
    }
   ],
   "source": [
    "X.shape"
   ]
  },
  {
   "cell_type": "markdown",
   "id": "ebdaf177-1cda-4c04-8d12-090678310602",
   "metadata": {},
   "source": [
    "Again, you will split the data into training, validation and testing."
   ]
  },
  {
   "cell_type": "code",
   "execution_count": 77,
   "id": "8519363c-f7e0-43a8-ba4e-a33ab9d5b96e",
   "metadata": {},
   "outputs": [],
   "source": [
    "X_train, X_to_split, y_train, y_to_split = train_test_split(X, y, train_size=.7)\n",
    "X_test, X_validation, y_test, y_validation = train_test_split(X_to_split, y_to_split, train_size=.5)"
   ]
  },
  {
   "cell_type": "markdown",
   "id": "2bc4d63e-30c3-4f7d-8f6f-b12496886b5e",
   "metadata": {},
   "source": [
    "Write a function that calculates the forward pass for this multi-class classification problem.\n",
    "* You will use the sigmoid activation function for the hidden layer.\n",
    "* For the output layer you will have to write the softmax activation function (you can check the slides)\n",
    "* __Note:__ you can easily re-use the function that you coded for Part I if you do a simple modification and also include an input argument for the activation of the output layer."
   ]
  },
  {
   "cell_type": "code",
   "execution_count": 78,
   "id": "26d68da7-1fa1-4074-b8fa-29ff1c21d8a5",
   "metadata": {},
   "outputs": [],
   "source": [
    "def softmax_activation(Z: np.ndarray) -> np.ndarray:\n",
    "    \"\"\"Softmax activation function. It receives a matrix and calculates the probability of each class given\n",
    "    that each column represents a \n",
    "\n",
    "    Args:\n",
    "        Z (np.ndarray): matrix (or array, but can't be a flatten array) that will have softmax applied\n",
    "\n",
    "    Returns:\n",
    "        np.ndarray: Returns the matrix with softmax applied\n",
    "    \"\"\"\n",
    "    X = Z.copy()\n",
    "\n",
    "    for i in range(Z.shape[0]):\n",
    "        for j in range(Z.shape[1]):\n",
    "            X[i, j] = np.exp(Z[i, j]) / sum(map(lambda z_ij: np.exp(z_ij), Z[i]))\n",
    "    \n",
    "    return X"
   ]
  },
  {
   "cell_type": "code",
   "execution_count": 106,
   "id": "c28da05c-908f-4b46-87f9-e94718ca52b1",
   "metadata": {},
   "outputs": [],
   "source": [
    "def multiclass_classification(X, activation, dim_input, dim_hidden, dim_output):\n",
    "    \"\"\"\n",
    "    Neural network that make a multiclass classification\n",
    "    \n",
    "    Parameters\n",
    "    ----------\n",
    "    X : a 2-dimensional array\n",
    "        the input data\n",
    "    activation : function\n",
    "        the activation function to be used for the hidden layer\n",
    "    dim_input : int\n",
    "        the dimensionality of the input layer\n",
    "    dim_hidden : int\n",
    "        the dimensionality of the hidden layer\n",
    "    dim_output : int\n",
    "        the dimensionality of the output layer\n",
    "    Returns\n",
    "    -------\n",
    "    y_pred : float\n",
    "        the output of the computation of the forward pass of the network\n",
    "    \"\"\"\n",
    "    W_1 = np.random.random_sample((dim_input, dim_hidden))\n",
    "    W_2 = np.random.random_sample((dim_hidden, dim_output))\n",
    "\n",
    "    A = activation(X @ W_1) @ W_2\n",
    "    Y = softmax_activation(A)\n",
    "\n",
    "    return Y"
   ]
  },
  {
   "cell_type": "markdown",
   "id": "db6b264d-1b1d-433a-98d3-eaf33b685a67",
   "metadata": {},
   "source": [
    "Lastly, calculate the error of this forward pass using the cross-entropy loss."
   ]
  },
  {
   "cell_type": "code",
   "execution_count": 136,
   "id": "015f701c-f816-4208-8cdc-4ba32f03f08d",
   "metadata": {},
   "outputs": [
    {
     "data": {
      "text/plain": [
       "np.float64(14917646.577071635)"
      ]
     },
     "execution_count": 136,
     "metadata": {},
     "output_type": "execute_result"
    }
   ],
   "source": [
    "# Again, calculating only the training set because we're not learning how to make the model\n",
    "# learn yet\n",
    "prediction_matrix = multiclass_classification(X_train, sigmoid_activation, X_train.shape[1], 5, 10)\n",
    "\n",
    "prediction = np.max(prediction_matrix, axis=1)\n",
    "\n",
    "CE_ERROR = -np.sum(np.log(prediction)*y)\n",
    "\n",
    "CE_ERROR"
   ]
  }
 ],
 "metadata": {
  "kernelspec": {
   "display_name": "venv",
   "language": "python",
   "name": "python3"
  },
  "language_info": {
   "codemirror_mode": {
    "name": "ipython",
    "version": 3
   },
   "file_extension": ".py",
   "mimetype": "text/x-python",
   "name": "python",
   "nbconvert_exporter": "python",
   "pygments_lexer": "ipython3",
   "version": "3.12.3"
  }
 },
 "nbformat": 4,
 "nbformat_minor": 5
}
