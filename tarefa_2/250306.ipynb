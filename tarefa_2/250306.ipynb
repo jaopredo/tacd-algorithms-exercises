{
 "cells": [
  {
   "cell_type": "code",
   "execution_count": 832,
   "id": "dd71f212-b8dc-4f83-a4c9-4b2a5b7e8625",
   "metadata": {
    "tags": []
   },
   "outputs": [
    {
     "data": {
      "text/plain": [
       "250306"
      ]
     },
     "execution_count": 832,
     "metadata": {},
     "output_type": "execute_result"
    }
   ],
   "source": [
    "250306"
   ]
  },
  {
   "cell_type": "markdown",
   "id": "d05468eb-e9d9-44b3-80f7-d1e1dc7296b1",
   "metadata": {
    "tags": []
   },
   "source": [
    "# Assignment 2 - Regression and Classification\n",
    "\n",
    "Second assessed coursework for the course: Técnicas e Algoritmos em Ciência de Dados\n",
    "\n",
    "This coursework aims to provide students with a comprehensive understanding of linear regression with polynomial basis functions and classification with K-nearest neighbours. Specifically, students will learn about key concepts related to the model's generalisation ability by changing the degree of the polynomial and the size of the dataset. In the second part of the coursework, students will delve into classification using the K-nearest neighbours algorithm. Finally, students will be introduced to the concept of using a validation set to select the optimal value of $K$ for their classification model. By the end of this coursework, students will have gained a solid understanding of these key concepts and be equipped with the skills to apply them in practical scenarios.\n",
    "\n",
    "## General guidelines:\n",
    "\n",
    "* This work must be entirely original. You are allowed to research documentation for specific libraries, but copying solutions from the internet or your classmates is strictly prohibited. Any such actions will result in a deduction of points for the coursework.\n",
    "* Please enter your code in the designated areas of the notebook. You can create additional code cells to experiment with, but __make sure to place your final solutions where they are requested in the notebook.__\n",
    "* Before submitting your work, make sure to rename the file to the random number that you created for the previous coursework (for example, 289479.ipynb).\n",
    "\n",
    "## Notebook Overview:\n",
    "\n",
    "1. [Polynomial Fitting Visualisation](#Polynomial-Fitting-Visualisation) (50%)\n",
    "2. [Classification with KNN](#Classification-with-KNN) (50%)"
   ]
  },
  {
   "cell_type": "code",
   "execution_count": 833,
   "id": "5bbccb7a-e176-497e-afe5-107d94f6ccf9",
   "metadata": {
    "tags": []
   },
   "outputs": [],
   "source": [
    "%matplotlib inline\n",
    "import pandas as pd\n",
    "import numpy as np\n",
    "import matplotlib.pyplot as plt\n",
    "import seaborn as sns\n",
    "from sklearn.metrics import mean_squared_error\n",
    "from sklearn.model_selection import train_test_split\n",
    "import pickle as pkl\n",
    "from sklearn.datasets import load_digits"
   ]
  },
  {
   "cell_type": "markdown",
   "id": "0e1e05a8-860b-45c1-9e23-1e2ae348d7ee",
   "metadata": {},
   "source": [
    "# Polynomial Fitting Visualisation\n",
    "In this exercise you will explore the effect that the degree of the polynomial and the size of the training data has on the model's performance and generalisation ability.\n",
    "\n",
    "1. Generate a 2D dataset of 15 points $(x_i,y_i)$ for $i=1..15$ using a sine wave perturbed by a small gaussian noise --- this is very similar to what you did in the lab.\n",
    "    - The $x_i$ should be equally spaced in the $[0-10]$ interval \n",
    "    - Use: $y_i = 4*sin(x_i) + \\epsilon$, where $\\epsilon$ is gaussian noise (with $\\mu=0$ and $\\sigma=1$).\n",
    "    - To ensure reproducibility of your results, use (provided below): \n",
    "    `rng = np.random.default_rng(13)` and\n",
    "    `random_state = np.random.RandomState(13)`\n",
    "    \n",
    "2. Split the points randomly into a training and testing sets of size 10 and 5, respectively.\n",
    "    \n",
    "3. Learn the weights of the linear regression for  polynomial models of degree $M$ for $M = 0..9$ . For each value of $M$ calculate the Root Mean Squared Error (RMSE) for the training and testing sets and plot these values against $M$. Your figure should be similar to Figure 1 from the Coursework document.\n",
    "\n",
    "4. In the last part of this exercise, you will have to create more points for training (using the same sine wave perturbed by a small gaussian noise as described in point 1). For testing, you will continue to use the same 5 points you used in points 1 to 3. Learn the weights of the linear regression for  polynomial models of degree $M=9$ for training sets of size $N$ with $N=10:500:10$ (that is, from $N=10$ to $N=500$ in steps of $10$). For each value of $N$ calculate the Root Mean Squared Error (RMSE) for the training and testing sets and plot these values against $N$. Your figure should be similar to Figure 2 from the Coursework document.\n",
    "\n",
    "* Note that for parts 3 and 4 you are supposed to write your code from scratch and you cannot use existing functions such as `PolynomialFeatures`, `LinearRegression` or `mean_squared_error`.\n",
    "* _Observation: in this exercise we are not using the validation set because our goal is not to choose a specific model but rather to analyse the behaviour of the family of models._"
   ]
  },
  {
   "cell_type": "markdown",
   "id": "8da4fed1-c4ad-4b5d-914b-0debae29f1b6",
   "metadata": {},
   "source": [
    "### Generate the data"
   ]
  },
  {
   "cell_type": "code",
   "execution_count": 834,
   "id": "748c64e9-3c3e-4e25-88d5-ac8943bc4671",
   "metadata": {},
   "outputs": [],
   "source": [
    "random_state = np.random.RandomState(13)\n",
    "# rng = np.random.default_rng(13)"
   ]
  },
  {
   "cell_type": "code",
   "execution_count": 835,
   "id": "11f869dc-1b96-4aaa-b2d9-d2ad0c709d84",
   "metadata": {
    "tags": []
   },
   "outputs": [],
   "source": [
    "x_points = np.linspace(0, 10, 15)\n",
    "y_points = 4 * np.sin(x_points) + random_state.normal(0, 1, x_points.shape)"
   ]
  },
  {
   "cell_type": "markdown",
   "id": "51c1ce30-85ed-4c2b-8a16-0b9b3a5096b4",
   "metadata": {},
   "source": [
    "### Split the points into training and testing\n",
    "Feel free to use `train_test_split(x, y, test_size = ?, random_state = random_state)`, remember to calculate the right proportion for the `test_size` so that you end up with 5 points in the testing set."
   ]
  },
  {
   "cell_type": "code",
   "execution_count": 836,
   "id": "756d1c8f-c2b9-453b-99e2-4d556e8a60a2",
   "metadata": {},
   "outputs": [],
   "source": [
    "X_train, X_test, y_train, y_test = train_test_split(x_points, y_points, test_size=0.3, random_state=13)\n",
    "\n",
    "X_train = X_train.reshape(-1, 1)\n",
    "X_test = X_test.reshape(-1, 1)\n",
    "\n",
    "y_train = y_train.reshape(-1, 1)\n",
    "y_test = y_test.reshape(-1, 1)"
   ]
  },
  {
   "cell_type": "markdown",
   "id": "ca6597f4-0af5-4fa7-929b-4f3f8b02c61c",
   "metadata": {},
   "source": [
    "### Degree vs. RMSE\n",
    "Generate the plot (as in __Figure 1__) of the RMSE during training and testing at different values of of the polynomial degree $M$."
   ]
  },
  {
   "cell_type": "code",
   "execution_count": 837,
   "id": "1e210093",
   "metadata": {},
   "outputs": [],
   "source": [
    "def moore_penrose_prediction(X: np.ndarray, y: np.ndarray) -> np.ndarray:\n",
    "    \"\"\"Returns the weights based on the Moore Penrose inverse matrix\n",
    "\n",
    "    Args:\n",
    "        X (np.ndarray): Datapoints\n",
    "        y (np.ndarray): Expected values\n",
    "\n",
    "    Returns:\n",
    "        np.ndarray: Weights calculated\n",
    "    \"\"\"\n",
    "    w = np.linalg.inv(X.T @ X) @ X.T @ y\n",
    "    return w\n",
    "\n",
    "\n",
    "def apply_polynomial_base(x: np.ndarray, degrees: int) -> np.ndarray:\n",
    "    \"\"\"Take a vector and applies the polynomial base into it based on the degrees passed as parameter\n",
    "    and return the PHI matrix with the polynomial base applied\n",
    "\n",
    "    Args:\n",
    "        x (np.ndarray): The vector to apply the base\n",
    "        degrees (int): Maximum degrees of the polynomial\n",
    "\n",
    "    Returns:\n",
    "        np.ndarray: PHI matrix with base applied\n",
    "    \"\"\"\n",
    "    PHI = np.hstack([(x**i) for i in range(degrees+1)])\n",
    "\n",
    "    return PHI"
   ]
  },
  {
   "cell_type": "code",
   "execution_count": 838,
   "id": "4d86279b-109e-4ff0-9f32-6f8c0a1b5f81",
   "metadata": {},
   "outputs": [
    {
     "data": {
      "image/png": "[encoded data removed]",
      "text/plain": [
       "<Figure size 640x480 with 1 Axes>"
      ]
     },
     "metadata": {},
     "output_type": "display_data"
    }
   ],
   "source": [
    "rmse_training_set = []\n",
    "rmse_test_set = []\n",
    "\n",
    "for k in range(len(X_train)):\n",
    "    PHI_train = apply_polynomial_base(X_train, k)\n",
    "    PHI_test = apply_polynomial_base(X_test, k)\n",
    "    w_k = moore_penrose_prediction(PHI_train, y_train)\n",
    "\n",
    "    rmse_training = np.sqrt(np.mean((y_train - PHI_train@w_k)**2))\n",
    "    rmse_test = np.sqrt(np.mean((y_test - PHI_test@w_k)**2))\n",
    "\n",
    "    rmse_training_set.append(rmse_training)\n",
    "    rmse_test_set.append(rmse_test)\n",
    "\n",
    "plt.figure()\n",
    "plt.title(\"Comparation of the RMSE of each set in function of the polynomial degree\")\n",
    "plt.ylabel(\"RMSE\")\n",
    "plt.xlabel(\"Degrees\")\n",
    "plt.grid()\n",
    "\n",
    "x = [i for i in range(len(X_train))]\n",
    "\n",
    "plt.plot(x, rmse_training_set, '-o', label=\"training\")\n",
    "plt.plot(x, rmse_test_set, '--x', label=\"testing\")\n",
    "\n",
    "plt.legend()\n",
    "plt.show()"
   ]
  },
  {
   "cell_type": "markdown",
   "id": "395409e1-7280-4420-88ed-2fc635b914d0",
   "metadata": {},
   "source": [
    "### Training set size vs. RMSE\n",
    "Generate the plot (as in __Figure 2__) of the RMSE during training and testing at different training set sizes $N$."
   ]
  },
  {
   "cell_type": "code",
   "execution_count": 839,
   "id": "bc515bf6-c077-49c0-928d-a1300f3967e2",
   "metadata": {},
   "outputs": [
    {
     "data": {
      "image/png": "[encoded data removed]",
      "text/plain": [
       "<Figure size 640x480 with 1 Axes>"
      ]
     },
     "metadata": {},
     "output_type": "display_data"
    }
   ],
   "source": [
    "# Calculating the PHI of the X_test\n",
    "PHI_test = apply_polynomial_base(X_test, 9)\n",
    "\n",
    "rmse_testing_set = []\n",
    "rmse_training_set = []\n",
    "\n",
    "for i in range(0, 510, 10):\n",
    "    if i > 0:\n",
    "        new_points = 10 * random_state.random_sample(size=(10, 1))\n",
    "\n",
    "        # Generating new points between 0 and 10\n",
    "        new_X_train = np.vstack([new_X_train, new_points])  # Adding the new points to the test dataset\n",
    "\n",
    "        new_y_train = 4*np.sin(new_X_train) + random_state.normal(0, 1, new_X_train.shape)\n",
    "    else:\n",
    "        new_X_train = X_train.copy()\n",
    "        new_y_train = y_train.copy()\n",
    "        \n",
    "    PHI_train = apply_polynomial_base(new_X_train, 9)  # Generating the PHI for each dataset\n",
    "    w = moore_penrose_prediction(PHI_train, new_y_train)  # Learning the weights\n",
    "\n",
    "    # Making the predictions\n",
    "    y_predicted_train = PHI_train @ w\n",
    "    y_predicted_test = PHI_test @ w\n",
    "\n",
    "    # Calculating the RMSE's\n",
    "    rmse_train = np.sqrt(np.mean((y_predicted_train - new_y_train)**2))\n",
    "    rmse_test = np.sqrt(np.mean((y_predicted_test - y_test)**2))\n",
    "\n",
    "    rmse_training_set.append(rmse_train)\n",
    "    rmse_testing_set.append(rmse_test)\n",
    "\n",
    "plt.title(\"Comparing the RMSE for the 9 degree polynomial base for the training size\")\n",
    "plt.xlabel('Training Size')\n",
    "plt.ylabel('RMSE')\n",
    "plt.grid()\n",
    "\n",
    "x = [i for i in range(0, 510, 10)]\n",
    "\n",
    "plt.plot(x, rmse_training_set,label=\"Training Set\")\n",
    "plt.plot(x, rmse_testing_set,label=\"Testing Set\")\n",
    "\n",
    "plt.legend()\n",
    "plt.show()"
   ]
  },
  {
   "cell_type": "markdown",
   "id": "b6315547-1273-42ae-973a-0825c2312804",
   "metadata": {},
   "source": [
    "# Classification with KNN\n",
    "In this exercise you will implement the K-nearest neighbours (K-NN) algorithm for binary classification without using any Python libraries such as scikit-learn. Use it to classify the Ionosphere dataset. You will also need to determine the optimal value of $K$ using the F1-score on a validation set and report the test set performance based on the F1-score.\n",
    "\n",
    "Dataset: The Ionosphere dataset contains radar data collected from a radar system in Goose Bay, Canada. The dataset contains 351 observations, with 34 attributes each. The last column represents the class, which is either \"good\" (1) or \"bad\" (0).\n",
    "\n",
    "Specifically:\n",
    "1. Load the Ionosphere dataset into a data frame and split it into a training set ($80\\%$), a validation set ($10\\%$), and a testing set ($10\\%$).\n",
    "    \n",
    "2. You will write code that implements the K-NN algorithm for binary classification. Use Euclidean distance as the distance metric.\n",
    "    - _Obs: it is better if you take only odd values of K, considering you are predicting the class based on the majority of the neighbours._\n",
    "\n",
    "\n",
    "3. Use the K-NN algorithm on the training set for a range of values of $K$ and evaluate its performance on the validation set using the F1-score. Plot the F1-score on the validation set against the range of values that were tried for $K$. Your plot should look like Figure 3. Choose the value of $K$ that gives the best F1-score.\n",
    "    - You will also have to implement the F1-score from scratch.\n",
    "\n",
    "\n",
    "4. Report the F1-score of the K-NN algorithm on the test set using the selected value of $K$.\n",
    "\n",
    "\n",
    "* __Note:__ You are not allowed to use any Python libraries such as scikit-learn to implement the K-NN algorithm or to calculate distances. You may use numpy or other basic libraries for matrix operations.\n",
    "\n",
    "* As a reminder, the F1-score is calculated as follows: $F1 = 2 \\times \\frac{precision \\times recall}{precision + recall}$ or $F1 = \\frac{TP}{TP + \\frac{1}{2} (FP + FN)}$\n",
    "    \n",
    "    "
   ]
  },
  {
   "cell_type": "markdown",
   "id": "a08168d9-c8d3-496c-b24e-3c6aa92cc406",
   "metadata": {},
   "source": [
    "### Preparing the dataset"
   ]
  },
  {
   "cell_type": "markdown",
   "id": "f3644c7b-3b33-4595-b49c-29b9a53ca088",
   "metadata": {},
   "source": [
    "Load the dataset into a pandas `DataFrame`, split the features from the target variable, and generate the training, validation and testing sets."
   ]
  },
  {
   "cell_type": "code",
   "execution_count": 840,
   "id": "836ed810-8ac1-4781-b4b7-ac9d46762ab6",
   "metadata": {
    "tags": []
   },
   "outputs": [],
   "source": [
    "iono_df = pd.read_csv('ionosphere_data_cleaned.csv')"
   ]
  },
  {
   "cell_type": "markdown",
   "id": "c0aec99a-7224-4d05-a4f3-23259d621b88",
   "metadata": {},
   "source": [
    "Let's inspect the dataset. There are 34 features and one target column"
   ]
  },
  {
   "cell_type": "code",
   "execution_count": 841,
   "id": "ec8beb33-b369-4fd7-a8f9-2eaa9e2ba92f",
   "metadata": {
    "tags": []
   },
   "outputs": [
    {
     "data": {
      "text/html": [
       "<div>\n",
       "<style scoped>\n",
       "    .dataframe tbody tr th:only-of-type {\n",
       "        vertical-align: middle;\n",
       "    }\n",
       "\n",
       "    .dataframe tbody tr th {\n",
       "        vertical-align: top;\n",
       "    }\n",
       "\n",
       "    .dataframe thead th {\n",
       "        text-align: right;\n",
       "    }\n",
       "</style>\n",
       "<table border=\"1\" class=\"dataframe\">\n",
       "  <thead>\n",
       "    <tr style=\"text-align: right;\">\n",
       "      <th></th>\n",
       "      <th>column_a</th>\n",
       "      <th>column_b</th>\n",
       "      <th>column_c</th>\n",
       "      <th>column_d</th>\n",
       "      <th>column_e</th>\n",
       "      <th>column_f</th>\n",
       "      <th>column_g</th>\n",
       "      <th>column_h</th>\n",
       "      <th>column_i</th>\n",
       "      <th>column_j</th>\n",
       "      <th>...</th>\n",
       "      <th>column_z</th>\n",
       "      <th>column_aa</th>\n",
       "      <th>column_ab</th>\n",
       "      <th>column_ac</th>\n",
       "      <th>column_ad</th>\n",
       "      <th>column_ae</th>\n",
       "      <th>column_af</th>\n",
       "      <th>column_ag</th>\n",
       "      <th>column_ah</th>\n",
       "      <th>label</th>\n",
       "    </tr>\n",
       "  </thead>\n",
       "  <tbody>\n",
       "    <tr>\n",
       "      <th>0</th>\n",
       "      <td>1.0</td>\n",
       "      <td>0.0</td>\n",
       "      <td>0.99539</td>\n",
       "      <td>-0.05889</td>\n",
       "      <td>0.85243</td>\n",
       "      <td>0.02306</td>\n",
       "      <td>0.83398</td>\n",
       "      <td>-0.37708</td>\n",
       "      <td>1.00000</td>\n",
       "      <td>0.03760</td>\n",
       "      <td>...</td>\n",
       "      <td>-0.51171</td>\n",
       "      <td>0.41078</td>\n",
       "      <td>-0.46168</td>\n",
       "      <td>0.21266</td>\n",
       "      <td>-0.34090</td>\n",
       "      <td>0.42267</td>\n",
       "      <td>-0.54487</td>\n",
       "      <td>0.18641</td>\n",
       "      <td>-0.45300</td>\n",
       "      <td>1</td>\n",
       "    </tr>\n",
       "    <tr>\n",
       "      <th>1</th>\n",
       "      <td>1.0</td>\n",
       "      <td>0.0</td>\n",
       "      <td>1.00000</td>\n",
       "      <td>-0.18829</td>\n",
       "      <td>0.93035</td>\n",
       "      <td>-0.36156</td>\n",
       "      <td>-0.10868</td>\n",
       "      <td>-0.93597</td>\n",
       "      <td>1.00000</td>\n",
       "      <td>-0.04549</td>\n",
       "      <td>...</td>\n",
       "      <td>-0.26569</td>\n",
       "      <td>-0.20468</td>\n",
       "      <td>-0.18401</td>\n",
       "      <td>-0.19040</td>\n",
       "      <td>-0.11593</td>\n",
       "      <td>-0.16626</td>\n",
       "      <td>-0.06288</td>\n",
       "      <td>-0.13738</td>\n",
       "      <td>-0.02447</td>\n",
       "      <td>0</td>\n",
       "    </tr>\n",
       "    <tr>\n",
       "      <th>2</th>\n",
       "      <td>1.0</td>\n",
       "      <td>0.0</td>\n",
       "      <td>1.00000</td>\n",
       "      <td>-0.03365</td>\n",
       "      <td>1.00000</td>\n",
       "      <td>0.00485</td>\n",
       "      <td>1.00000</td>\n",
       "      <td>-0.12062</td>\n",
       "      <td>0.88965</td>\n",
       "      <td>0.01198</td>\n",
       "      <td>...</td>\n",
       "      <td>-0.40220</td>\n",
       "      <td>0.58984</td>\n",
       "      <td>-0.22145</td>\n",
       "      <td>0.43100</td>\n",
       "      <td>-0.17365</td>\n",
       "      <td>0.60436</td>\n",
       "      <td>-0.24180</td>\n",
       "      <td>0.56045</td>\n",
       "      <td>-0.38238</td>\n",
       "      <td>1</td>\n",
       "    </tr>\n",
       "    <tr>\n",
       "      <th>3</th>\n",
       "      <td>1.0</td>\n",
       "      <td>0.0</td>\n",
       "      <td>1.00000</td>\n",
       "      <td>-0.45161</td>\n",
       "      <td>1.00000</td>\n",
       "      <td>1.00000</td>\n",
       "      <td>0.71216</td>\n",
       "      <td>-1.00000</td>\n",
       "      <td>0.00000</td>\n",
       "      <td>0.00000</td>\n",
       "      <td>...</td>\n",
       "      <td>0.90695</td>\n",
       "      <td>0.51613</td>\n",
       "      <td>1.00000</td>\n",
       "      <td>1.00000</td>\n",
       "      <td>-0.20099</td>\n",
       "      <td>0.25682</td>\n",
       "      <td>1.00000</td>\n",
       "      <td>-0.32382</td>\n",
       "      <td>1.00000</td>\n",
       "      <td>0</td>\n",
       "    </tr>\n",
       "    <tr>\n",
       "      <th>4</th>\n",
       "      <td>1.0</td>\n",
       "      <td>0.0</td>\n",
       "      <td>1.00000</td>\n",
       "      <td>-0.02401</td>\n",
       "      <td>0.94140</td>\n",
       "      <td>0.06531</td>\n",
       "      <td>0.92106</td>\n",
       "      <td>-0.23255</td>\n",
       "      <td>0.77152</td>\n",
       "      <td>-0.16399</td>\n",
       "      <td>...</td>\n",
       "      <td>-0.65158</td>\n",
       "      <td>0.13290</td>\n",
       "      <td>-0.53206</td>\n",
       "      <td>0.02431</td>\n",
       "      <td>-0.62197</td>\n",
       "      <td>-0.05707</td>\n",
       "      <td>-0.59573</td>\n",
       "      <td>-0.04608</td>\n",
       "      <td>-0.65697</td>\n",
       "      <td>1</td>\n",
       "    </tr>\n",
       "  </tbody>\n",
       "</table>\n",
       "<p>5 rows × 35 columns</p>\n",
       "</div>"
      ],
      "text/plain": [
       "   column_a  column_b  column_c  column_d  column_e  column_f  column_g  \\\n",
       "0       1.0       0.0   0.99539  -0.05889   0.85243   0.02306   0.83398   \n",
       "1       1.0       0.0   1.00000  -0.18829   0.93035  -0.36156  -0.10868   \n",
       "2       1.0       0.0   1.00000  -0.03365   1.00000   0.00485   1.00000   \n",
       "3       1.0       0.0   1.00000  -0.45161   1.00000   1.00000   0.71216   \n",
       "4       1.0       0.0   1.00000  -0.02401   0.94140   0.06531   0.92106   \n",
       "\n",
       "   column_h  column_i  column_j  ...  column_z  column_aa  column_ab  \\\n",
       "0  -0.37708   1.00000   0.03760  ...  -0.51171    0.41078   -0.46168   \n",
       "1  -0.93597   1.00000  -0.04549  ...  -0.26569   -0.20468   -0.18401   \n",
       "2  -0.12062   0.88965   0.01198  ...  -0.40220    0.58984   -0.22145   \n",
       "3  -1.00000   0.00000   0.00000  ...   0.90695    0.51613    1.00000   \n",
       "4  -0.23255   0.77152  -0.16399  ...  -0.65158    0.13290   -0.53206   \n",
       "\n",
       "   column_ac  column_ad  column_ae  column_af  column_ag  column_ah  label  \n",
       "0    0.21266   -0.34090    0.42267   -0.54487    0.18641   -0.45300      1  \n",
       "1   -0.19040   -0.11593   -0.16626   -0.06288   -0.13738   -0.02447      0  \n",
       "2    0.43100   -0.17365    0.60436   -0.24180    0.56045   -0.38238      1  \n",
       "3    1.00000   -0.20099    0.25682    1.00000   -0.32382    1.00000      0  \n",
       "4    0.02431   -0.62197   -0.05707   -0.59573   -0.04608   -0.65697      1  \n",
       "\n",
       "[5 rows x 35 columns]"
      ]
     },
     "execution_count": 841,
     "metadata": {},
     "output_type": "execute_result"
    }
   ],
   "source": [
    "iono_df.head()"
   ]
  },
  {
   "cell_type": "markdown",
   "id": "780db93b-1cb3-4b48-8c3a-4980acb0d403",
   "metadata": {},
   "source": [
    "We can inspect the class distribution by using `value_counts()` on the target column"
   ]
  },
  {
   "cell_type": "code",
   "execution_count": 842,
   "id": "d45c38ad-e30c-4f0a-823e-aa8f89eec215",
   "metadata": {
    "tags": []
   },
   "outputs": [
    {
     "data": {
      "text/plain": [
       "label\n",
       "1    225\n",
       "0    126\n",
       "Name: count, dtype: int64"
      ]
     },
     "execution_count": 842,
     "metadata": {},
     "output_type": "execute_result"
    }
   ],
   "source": [
    "iono_df.label.value_counts()"
   ]
  },
  {
   "cell_type": "markdown",
   "id": "96457fef-33a8-4ac7-8254-2559ee8d9d89",
   "metadata": {},
   "source": [
    "Let's separate our features from our target column"
   ]
  },
  {
   "cell_type": "code",
   "execution_count": 843,
   "id": "61f8b701-9d51-4545-804c-966ceb0929f3",
   "metadata": {
    "tags": []
   },
   "outputs": [],
   "source": [
    "X_io = iono_df.values[:, :-1]\n",
    "y_io = iono_df.values[:, -1]"
   ]
  },
  {
   "cell_type": "markdown",
   "id": "5268baac-164d-4c23-92d2-fa5eeffca5bb",
   "metadata": {},
   "source": [
    "Now you will write code to split the data into training ($80\\%$), validation ($10\\%$), and testing ($10\\%$). \n",
    "\n",
    "You can use `train_test_split()` but make sure to calculate the right proportions and remember that this only returns 2 different sets, not 3."
   ]
  },
  {
   "cell_type": "code",
   "execution_count": 844,
   "id": "92a12994-bbac-4ba3-b115-0de949b87231",
   "metadata": {
    "tags": []
   },
   "outputs": [],
   "source": [
    "# set the random_state for reproducibilty of your results\n",
    "random_state = 42"
   ]
  },
  {
   "cell_type": "code",
   "execution_count": null,
   "id": "40f9fff4-e811-41a0-940b-1539a002c3d5",
   "metadata": {},
   "outputs": [],
   "source": [
    "labels = iono_df['label'].copy()\n",
    "df_to_split = iono_df.drop(['label'], axis=1)\n",
    "\n",
    "training_set, split_set, training_target, split_target = train_test_split(df_to_split, labels, train_size=0.8, random_state=random_state)\n",
    "testing_set, validation_set, testing_target, validation_target = train_test_split(split_set, split_target, train_size=0.5, random_state=random_state)"
   ]
  },
  {
   "cell_type": "markdown",
   "id": "c36e0e12-6f05-415e-9736-e980667818c3",
   "metadata": {},
   "source": [
    "### Here you will implement the KNN algorithm using the euclidean distance"
   ]
  },
  {
   "cell_type": "code",
   "execution_count": 846,
   "id": "c2269c81",
   "metadata": {},
   "outputs": [],
   "source": [
    "def euclidean_dist(x1: np.ndarray, x2: np.ndarray) -> float:\n",
    "    return np.linalg.norm(x1 - x2, 2)"
   ]
  },
  {
   "cell_type": "code",
   "execution_count": 847,
   "id": "f56f6ba5-944e-4109-b423-7dec4890036a",
   "metadata": {},
   "outputs": [],
   "source": [
    "def knn_predict(dataset: pd.DataFrame, target: pd.Series, point: np.ndarray, k: int) -> float:\n",
    "    if point.shape[0] != len(dataset.columns):\n",
    "        raise ValueError(\"The given point does not have the required number of features\")\n",
    "    \n",
    "    distances = []\n",
    "    # Distance, Index, Label of the dataset point compared to the given point\n",
    "\n",
    "    target: np.ndarray = target.to_numpy()  # Converting the target to a numpy array\n",
    "\n",
    "    j = 0  # For counting datapoints\n",
    "\n",
    "    for _, datapoint in dataset.iterrows():\n",
    "        j += 1  # Count +1 datapoint\n",
    "\n",
    "        datapoint = datapoint.to_numpy()  # Convert the datapoint into a numpy array\n",
    "        datapoint = datapoint.reshape(-1, 1)  # Transform into a column vector\n",
    "\n",
    "        # Calculate the distance from the given point to the datapoint\n",
    "        distance_from_point_to_datapoint = euclidean_dist(datapoint, point)\n",
    "\n",
    "        distances.append([distance_from_point_to_datapoint, j-1, target[j-1]])\n",
    "\n",
    "    nearest_neighbours = []\n",
    "\n",
    "    for _ in range(k):  # Getting the smallest values\n",
    "        minimum_value = min(distances, key=lambda dist: dist[0])  # Get the smallest value\n",
    "        minimum_value_index = distances.index(minimum_value)\n",
    "        nearest_neighbours.append(minimum_value)  # Add it to the list\n",
    "        distances.pop(minimum_value_index)  # Remove it from the distance vector\n",
    "\n",
    "    cases_class_1 = list(filter(lambda neighbour: neighbour[2]==1, nearest_neighbours))\n",
    "    # Get the cases where the label is 1\n",
    "\n",
    "    # If the cases where the label is 1 is greater then the half of k, then I return 1, else is 0\n",
    "    return round(len(cases_class_1)/k)"
   ]
  },
  {
   "cell_type": "markdown",
   "id": "1443e168-3fec-40a9-84e5-a5bb3e03352d",
   "metadata": {},
   "source": [
    "### Select the optimal $K$ by plotting the F1 score in the validation set at different values of $K$"
   ]
  },
  {
   "cell_type": "markdown",
   "id": "17ec49e0-84eb-41e5-a6d3-b124520f2aa6",
   "metadata": {},
   "source": [
    "First create a function that calculates the F1-score"
   ]
  },
  {
   "cell_type": "code",
   "execution_count": 848,
   "id": "6179ed96-a064-4c7b-8f6b-aa11425da940",
   "metadata": {},
   "outputs": [],
   "source": [
    "def calculate_f1_score(y_predicted: np.ndarray, y_target: pd.Series) -> np.ndarray:\n",
    "    df = pd.DataFrame({\n",
    "        'PREDICTED': y_predicted.flatten(),\n",
    "        'TARGET': y_target\n",
    "    })\n",
    "\n",
    "    true_positives = len(df[\n",
    "        (df['PREDICTED'] == 1) & (df['TARGET'] == 1)\n",
    "    ])\n",
    "    false_negatives = len(df[\n",
    "        (df['PREDICTED'] == 0) & (df['TARGET'] == 1)\n",
    "    ])\n",
    "    true_negatives = len(df[\n",
    "        (df['PREDICTED'] == 0) & (df['TARGET'] == 0)\n",
    "    ])\n",
    "    false_positives = len(df[\n",
    "        (df['PREDICTED'] == 1) & (df['TARGET'] == 0)\n",
    "    ])\n",
    "\n",
    "    return true_positives / (true_positives + 1/2*(false_negatives + false_positives))"
   ]
  },
  {
   "cell_type": "markdown",
   "id": "d6df1af4-5361-4cb3-baaa-23ae6470c0e2",
   "metadata": {},
   "source": [
    "Generate the plot and select the optimal $K$"
   ]
  },
  {
   "cell_type": "code",
   "execution_count": 853,
   "id": "41ae15c8-b904-4383-92a1-616bd0f3b4bf",
   "metadata": {},
   "outputs": [
    {
     "data": {
      "image/png": "[encoded data removed]",
      "text/plain": [
       "<Figure size 640x480 with 1 Axes>"
      ]
     },
     "metadata": {},
     "output_type": "display_data"
    }
   ],
   "source": [
    "f1_scores = []  # Creating the f1 scores list\n",
    "k_values = list(range(1, 32, 2))  # Getting the values of k\n",
    "\n",
    "for k in k_values:  # For each value of k\n",
    "    predicted_validation = np.ndarray((validation_target.shape[0], 1))  # I create a empty array\n",
    "    j = 0  # Initialize the variable that count the points\n",
    "\n",
    "    for _, point in validation_set.iterrows():  # For each point in the validation set\n",
    "        point = point.to_numpy().reshape(-1, 1)  # Convert it to numpy and reshape it\n",
    "        predicted_value = knn_predict(training_set, training_target, point, k)  # Predict the value of the point\n",
    "        predicted_validation[j] = predicted_value  # Put the prediction on the empty array\n",
    "        j+=1  # Increment j\n",
    "\n",
    "    f1_scores.append(calculate_f1_score(predicted_validation, validation_target)) # Add the f1 score\n",
    "\n",
    "\n",
    "# Plotting the score in function of K\n",
    "plt.title(\"F1_SCORE FOR EACH NUMBER OF K\")\n",
    "plt.grid()\n",
    "plt.xlabel(\"K\")\n",
    "plt.ylabel(\"F1_score\")\n",
    "\n",
    "plt.plot(k_values, f1_scores, '-o', label=\"validation\")\n",
    "\n",
    "plt.legend()\n",
    "plt.show()\n",
    "\n",
    "BEST_K = k_values[f1_scores.index(max(f1_scores))]  # Get the best value of K"
   ]
  },
  {
   "cell_type": "markdown",
   "id": "08575674-1b72-4c31-90c2-8e3891af6762",
   "metadata": {},
   "source": [
    "Calculate the test set performance using the optimal $K$"
   ]
  },
  {
   "cell_type": "code",
   "execution_count": 862,
   "id": "ff7c6e2a-84a0-42ea-9b7f-b343072355cf",
   "metadata": {},
   "outputs": [
    {
     "data": {
      "text/plain": [
       "0.8571428571428571"
      ]
     },
     "execution_count": 862,
     "metadata": {},
     "output_type": "execute_result"
    }
   ],
   "source": [
    "complete_training_set = pd.concat([training_set, validation_set])\n",
    "complete_training_target = pd.concat([training_target, validation_target])\n",
    "\n",
    "predicted_testing = np.ndarray((testing_target.shape[0], 1))  # I create a empty array\n",
    "j = 0  # Initialize the variable that count the points\n",
    "\n",
    "for _, point in testing_set.iterrows():  # For each point in the testing set\n",
    "    point = point.to_numpy().reshape(-1, 1)  # Convert it to numpy and reshape it\n",
    "    predicted_value = knn_predict(complete_training_set, complete_training_target, point, BEST_K)\n",
    "    # Predict the value of the point\n",
    "    predicted_testing[j] = predicted_value  # Put the prediction on the empty array\n",
    "    j+=1  # Increment j\n",
    "\n",
    "calculate_f1_score(predicted_testing, testing_target)"
   ]
  }
 ],
 "metadata": {
  "kernelspec": {
   "display_name": "venv",
   "language": "python",
   "name": "python3"
  },
  "language_info": {
   "codemirror_mode": {
    "name": "ipython",
    "version": 3
   },
   "file_extension": ".py",
   "mimetype": "text/x-python",
   "name": "python",
   "nbconvert_exporter": "python",
   "pygments_lexer": "ipython3",
   "version": "3.12.3"
  }
 },
 "nbformat": 4,
 "nbformat_minor": 5
}
